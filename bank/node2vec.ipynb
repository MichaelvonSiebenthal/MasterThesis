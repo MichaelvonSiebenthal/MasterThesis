{
 "cells": [
  {
   "cell_type": "markdown",
   "metadata": {},
   "source": [
    "# Node2Vec Script\n",
    "\n",
    "First the required packages and the bank.csv file is loaded."
   ]
  },
  {
   "cell_type": "code",
   "execution_count": 81,
   "metadata": {},
   "outputs": [
    {
     "data": {
      "text/html": [
       "<div>\n",
       "<style scoped>\n",
       "    .dataframe tbody tr th:only-of-type {\n",
       "        vertical-align: middle;\n",
       "    }\n",
       "\n",
       "    .dataframe tbody tr th {\n",
       "        vertical-align: top;\n",
       "    }\n",
       "\n",
       "    .dataframe thead th {\n",
       "        text-align: right;\n",
       "    }\n",
       "</style>\n",
       "<table border=\"1\" class=\"dataframe\">\n",
       "  <thead>\n",
       "    <tr style=\"text-align: right;\">\n",
       "      <th></th>\n",
       "      <th>age</th>\n",
       "      <th>job</th>\n",
       "      <th>marital</th>\n",
       "      <th>education</th>\n",
       "      <th>default</th>\n",
       "      <th>balance</th>\n",
       "      <th>housing</th>\n",
       "      <th>loan</th>\n",
       "      <th>contact</th>\n",
       "      <th>day</th>\n",
       "      <th>month</th>\n",
       "      <th>duration</th>\n",
       "      <th>campaign</th>\n",
       "      <th>pdays</th>\n",
       "      <th>previous</th>\n",
       "      <th>poutcome</th>\n",
       "      <th>y</th>\n",
       "    </tr>\n",
       "  </thead>\n",
       "  <tbody>\n",
       "    <tr>\n",
       "      <th>0</th>\n",
       "      <td>30</td>\n",
       "      <td>unemployed</td>\n",
       "      <td>married</td>\n",
       "      <td>primary</td>\n",
       "      <td>no</td>\n",
       "      <td>1787</td>\n",
       "      <td>no</td>\n",
       "      <td>no</td>\n",
       "      <td>cellular</td>\n",
       "      <td>19</td>\n",
       "      <td>oct</td>\n",
       "      <td>79</td>\n",
       "      <td>1</td>\n",
       "      <td>-1</td>\n",
       "      <td>0</td>\n",
       "      <td>unknown</td>\n",
       "      <td>no</td>\n",
       "    </tr>\n",
       "    <tr>\n",
       "      <th>1</th>\n",
       "      <td>33</td>\n",
       "      <td>services</td>\n",
       "      <td>married</td>\n",
       "      <td>secondary</td>\n",
       "      <td>no</td>\n",
       "      <td>4789</td>\n",
       "      <td>yes</td>\n",
       "      <td>yes</td>\n",
       "      <td>cellular</td>\n",
       "      <td>11</td>\n",
       "      <td>may</td>\n",
       "      <td>220</td>\n",
       "      <td>1</td>\n",
       "      <td>339</td>\n",
       "      <td>4</td>\n",
       "      <td>failure</td>\n",
       "      <td>no</td>\n",
       "    </tr>\n",
       "    <tr>\n",
       "      <th>2</th>\n",
       "      <td>35</td>\n",
       "      <td>management</td>\n",
       "      <td>single</td>\n",
       "      <td>tertiary</td>\n",
       "      <td>no</td>\n",
       "      <td>1350</td>\n",
       "      <td>yes</td>\n",
       "      <td>no</td>\n",
       "      <td>cellular</td>\n",
       "      <td>16</td>\n",
       "      <td>apr</td>\n",
       "      <td>185</td>\n",
       "      <td>1</td>\n",
       "      <td>330</td>\n",
       "      <td>1</td>\n",
       "      <td>failure</td>\n",
       "      <td>no</td>\n",
       "    </tr>\n",
       "    <tr>\n",
       "      <th>3</th>\n",
       "      <td>30</td>\n",
       "      <td>management</td>\n",
       "      <td>married</td>\n",
       "      <td>tertiary</td>\n",
       "      <td>no</td>\n",
       "      <td>1476</td>\n",
       "      <td>yes</td>\n",
       "      <td>yes</td>\n",
       "      <td>unknown</td>\n",
       "      <td>3</td>\n",
       "      <td>jun</td>\n",
       "      <td>199</td>\n",
       "      <td>4</td>\n",
       "      <td>-1</td>\n",
       "      <td>0</td>\n",
       "      <td>unknown</td>\n",
       "      <td>no</td>\n",
       "    </tr>\n",
       "    <tr>\n",
       "      <th>4</th>\n",
       "      <td>59</td>\n",
       "      <td>blue-collar</td>\n",
       "      <td>married</td>\n",
       "      <td>secondary</td>\n",
       "      <td>no</td>\n",
       "      <td>0</td>\n",
       "      <td>yes</td>\n",
       "      <td>no</td>\n",
       "      <td>unknown</td>\n",
       "      <td>5</td>\n",
       "      <td>may</td>\n",
       "      <td>226</td>\n",
       "      <td>1</td>\n",
       "      <td>-1</td>\n",
       "      <td>0</td>\n",
       "      <td>unknown</td>\n",
       "      <td>no</td>\n",
       "    </tr>\n",
       "  </tbody>\n",
       "</table>\n",
       "</div>"
      ],
      "text/plain": [
       "   age          job  marital  education default  balance housing loan  \\\n",
       "0   30   unemployed  married    primary      no     1787      no   no   \n",
       "1   33     services  married  secondary      no     4789     yes  yes   \n",
       "2   35   management   single   tertiary      no     1350     yes   no   \n",
       "3   30   management  married   tertiary      no     1476     yes  yes   \n",
       "4   59  blue-collar  married  secondary      no        0     yes   no   \n",
       "\n",
       "    contact  day month  duration  campaign  pdays  previous poutcome   y  \n",
       "0  cellular   19   oct        79         1     -1         0  unknown  no  \n",
       "1  cellular   11   may       220         1    339         4  failure  no  \n",
       "2  cellular   16   apr       185         1    330         1  failure  no  \n",
       "3   unknown    3   jun       199         4     -1         0  unknown  no  \n",
       "4   unknown    5   may       226         1     -1         0  unknown  no  "
      ]
     },
     "execution_count": 81,
     "metadata": {},
     "output_type": "execute_result"
    }
   ],
   "source": [
    "import numpy as np \n",
    "import pandas as pd \n",
    "import matplotlib.pyplot as plt \n",
    "import networkx as nx\n",
    "from node2vec import Node2Vec\n",
    "from sklearn.model_selection import train_test_split\n",
    "import tensorflow as tf\n",
    "from tensorflow.keras.models import Sequential\n",
    "from tensorflow.keras.layers import Dense\n",
    "from sklearn.svm import SVC\n",
    "import statsmodels.api as sm\n",
    "import sklearn.metrics\n",
    "from sklearn.metrics import accuracy_score, confusion_matrix\n",
    "from sklearn.linear_model import LogisticRegression\n",
    "from sklearn.discriminant_analysis import QuadraticDiscriminantAnalysis as QDA\n",
    "from sklearn.ensemble import RandomForestClassifier, AdaBoostClassifier\n",
    "\n",
    "df = pd.read_csv('bank.csv',sep=';')\n",
    "df.head()"
   ]
  },
  {
   "cell_type": "markdown",
   "metadata": {},
   "source": [
    "## Recoding\n",
    "\n",
    "The data is recoded in the following code "
   ]
  },
  {
   "cell_type": "code",
   "execution_count": 82,
   "metadata": {},
   "outputs": [
    {
     "data": {
      "text/plain": [
       "array(['unemployed', 'services', 'management', 'blue-collar',\n",
       "       'self-employed', 'technician', 'entrepreneur', 'admin.', 'student',\n",
       "       'housemaid', 'retired', 'unknown'], dtype=object)"
      ]
     },
     "execution_count": 82,
     "metadata": {},
     "output_type": "execute_result"
    }
   ],
   "source": [
    "df.job.unique()"
   ]
  },
  {
   "cell_type": "code",
   "execution_count": 83,
   "metadata": {},
   "outputs": [],
   "source": [
    "df.age = df.age.apply(lambda x: 0 if x < 25 else(1 if x < 35 else(2 if x < 50 else(3 if x < 65 else 4))))\n",
    "\n",
    "#df.job = df.job.apply(lambda x: 0 if x == 'unemployed' else(1 if x == 'services' \\\n",
    "#                            else(2 if x == 'management' else(3 if x == 'blue-collar' \\\n",
    "#                                else(4 if x == 'self-employed' else(5 if x == 'technician' \\\n",
    "#                                    else(6 if x == 'entrepreneur' else(7 if x == 'admin.' \\\n",
    "#                        else(8 if x =='student' else(9 if x == 'housemaid' \\\n",
    "#                            else(10 if x == 'retired' else 11)))))))))))\n",
    "\n",
    "#df.job = df.job.apply(lambda x: 0 if x == 'unemployed' or 'unknown' else(1 if x == 'services' \\\n",
    "#                        or x == 'management' or x == 'admin.' else(2 if x == 'blue-collar' or x == 'technician' \\\n",
    "#                                    or x == 'housemaid' else(3 if x == 'self-employed' or x == 'entrepreneur' \\\n",
    "#                                        else(4 if x == 'student' else 5)))))\n",
    "\n",
    "df.job = df.job.apply(lambda x: 0 if x == 'student' else(2 if x == 'retired' else(3 if x == 'unemployed' or x == 'unknown' else 1)))\n",
    "\n",
    "\n",
    "df.marital = df.marital.apply(lambda x: 0 if x == 'single' else(1 if x == 'married' else 2))\n",
    "\n",
    "df.education = df.education.apply(lambda x: 0 if x == 'primary' else(1 if x == 'secondary' else(2 if x == 'tertiary' else 3)))\n",
    "\n",
    "df.default = df.default.apply(lambda x: 0 if x == 'no' else 1)\n",
    "\n",
    "df.balance = df.balance.apply(lambda x: 0 if x < 0 else(1 if x < 69. else(2 if x < 444. else(3 if x < 1480 else 4))))\n",
    "\n",
    "df.housing = df.housing.apply(lambda x: 0 if x == 'no' else 1)\n",
    "\n",
    "df.loan = df.loan.apply(lambda x: 0 if x == 'no' else 1)\n",
    "\n",
    "df.contact = df.contact.apply(lambda x: 0 if x == 'telephone' else(1 if x == 'cellular' else 2))\n",
    "\n",
    "df.pdays = df.pdays.apply(lambda x: 0 if x < 50 else 0)\n",
    "\n",
    "df.poutcome = df.poutcome.apply(lambda x: 0 if x == 'failure' else(1 if x == 'success' else 2))\n",
    "\n",
    "df.y = df.y.apply(lambda x: 0 if x == 'no' else 1)\n",
    "\n",
    "df.drop(columns = ['day','month'],inplace=True)\n"
   ]
  },
  {
   "cell_type": "code",
   "execution_count": 84,
   "metadata": {},
   "outputs": [
    {
     "data": {
      "text/html": [
       "<div>\n",
       "<style scoped>\n",
       "    .dataframe tbody tr th:only-of-type {\n",
       "        vertical-align: middle;\n",
       "    }\n",
       "\n",
       "    .dataframe tbody tr th {\n",
       "        vertical-align: top;\n",
       "    }\n",
       "\n",
       "    .dataframe thead th {\n",
       "        text-align: right;\n",
       "    }\n",
       "</style>\n",
       "<table border=\"1\" class=\"dataframe\">\n",
       "  <thead>\n",
       "    <tr style=\"text-align: right;\">\n",
       "      <th></th>\n",
       "      <th>age</th>\n",
       "      <th>job</th>\n",
       "      <th>marital</th>\n",
       "      <th>education</th>\n",
       "      <th>default</th>\n",
       "      <th>balance</th>\n",
       "      <th>housing</th>\n",
       "      <th>loan</th>\n",
       "      <th>contact</th>\n",
       "      <th>duration</th>\n",
       "      <th>campaign</th>\n",
       "      <th>pdays</th>\n",
       "      <th>previous</th>\n",
       "      <th>poutcome</th>\n",
       "      <th>y</th>\n",
       "    </tr>\n",
       "  </thead>\n",
       "  <tbody>\n",
       "    <tr>\n",
       "      <th>0</th>\n",
       "      <td>1</td>\n",
       "      <td>3</td>\n",
       "      <td>1</td>\n",
       "      <td>0</td>\n",
       "      <td>0</td>\n",
       "      <td>4</td>\n",
       "      <td>0</td>\n",
       "      <td>0</td>\n",
       "      <td>1</td>\n",
       "      <td>79</td>\n",
       "      <td>1</td>\n",
       "      <td>0</td>\n",
       "      <td>0</td>\n",
       "      <td>2</td>\n",
       "      <td>0</td>\n",
       "    </tr>\n",
       "    <tr>\n",
       "      <th>1</th>\n",
       "      <td>1</td>\n",
       "      <td>1</td>\n",
       "      <td>1</td>\n",
       "      <td>1</td>\n",
       "      <td>0</td>\n",
       "      <td>4</td>\n",
       "      <td>1</td>\n",
       "      <td>1</td>\n",
       "      <td>1</td>\n",
       "      <td>220</td>\n",
       "      <td>1</td>\n",
       "      <td>0</td>\n",
       "      <td>4</td>\n",
       "      <td>0</td>\n",
       "      <td>0</td>\n",
       "    </tr>\n",
       "    <tr>\n",
       "      <th>2</th>\n",
       "      <td>2</td>\n",
       "      <td>1</td>\n",
       "      <td>0</td>\n",
       "      <td>2</td>\n",
       "      <td>0</td>\n",
       "      <td>3</td>\n",
       "      <td>1</td>\n",
       "      <td>0</td>\n",
       "      <td>1</td>\n",
       "      <td>185</td>\n",
       "      <td>1</td>\n",
       "      <td>0</td>\n",
       "      <td>1</td>\n",
       "      <td>0</td>\n",
       "      <td>0</td>\n",
       "    </tr>\n",
       "    <tr>\n",
       "      <th>3</th>\n",
       "      <td>1</td>\n",
       "      <td>1</td>\n",
       "      <td>1</td>\n",
       "      <td>2</td>\n",
       "      <td>0</td>\n",
       "      <td>3</td>\n",
       "      <td>1</td>\n",
       "      <td>1</td>\n",
       "      <td>2</td>\n",
       "      <td>199</td>\n",
       "      <td>4</td>\n",
       "      <td>0</td>\n",
       "      <td>0</td>\n",
       "      <td>2</td>\n",
       "      <td>0</td>\n",
       "    </tr>\n",
       "    <tr>\n",
       "      <th>4</th>\n",
       "      <td>3</td>\n",
       "      <td>1</td>\n",
       "      <td>1</td>\n",
       "      <td>1</td>\n",
       "      <td>0</td>\n",
       "      <td>1</td>\n",
       "      <td>1</td>\n",
       "      <td>0</td>\n",
       "      <td>2</td>\n",
       "      <td>226</td>\n",
       "      <td>1</td>\n",
       "      <td>0</td>\n",
       "      <td>0</td>\n",
       "      <td>2</td>\n",
       "      <td>0</td>\n",
       "    </tr>\n",
       "    <tr>\n",
       "      <th>...</th>\n",
       "      <td>...</td>\n",
       "      <td>...</td>\n",
       "      <td>...</td>\n",
       "      <td>...</td>\n",
       "      <td>...</td>\n",
       "      <td>...</td>\n",
       "      <td>...</td>\n",
       "      <td>...</td>\n",
       "      <td>...</td>\n",
       "      <td>...</td>\n",
       "      <td>...</td>\n",
       "      <td>...</td>\n",
       "      <td>...</td>\n",
       "      <td>...</td>\n",
       "      <td>...</td>\n",
       "    </tr>\n",
       "    <tr>\n",
       "      <th>4516</th>\n",
       "      <td>1</td>\n",
       "      <td>1</td>\n",
       "      <td>1</td>\n",
       "      <td>1</td>\n",
       "      <td>0</td>\n",
       "      <td>0</td>\n",
       "      <td>1</td>\n",
       "      <td>0</td>\n",
       "      <td>1</td>\n",
       "      <td>329</td>\n",
       "      <td>5</td>\n",
       "      <td>0</td>\n",
       "      <td>0</td>\n",
       "      <td>2</td>\n",
       "      <td>0</td>\n",
       "    </tr>\n",
       "    <tr>\n",
       "      <th>4517</th>\n",
       "      <td>3</td>\n",
       "      <td>1</td>\n",
       "      <td>1</td>\n",
       "      <td>2</td>\n",
       "      <td>1</td>\n",
       "      <td>0</td>\n",
       "      <td>1</td>\n",
       "      <td>1</td>\n",
       "      <td>2</td>\n",
       "      <td>153</td>\n",
       "      <td>1</td>\n",
       "      <td>0</td>\n",
       "      <td>0</td>\n",
       "      <td>2</td>\n",
       "      <td>0</td>\n",
       "    </tr>\n",
       "    <tr>\n",
       "      <th>4518</th>\n",
       "      <td>3</td>\n",
       "      <td>1</td>\n",
       "      <td>1</td>\n",
       "      <td>1</td>\n",
       "      <td>0</td>\n",
       "      <td>2</td>\n",
       "      <td>0</td>\n",
       "      <td>0</td>\n",
       "      <td>1</td>\n",
       "      <td>151</td>\n",
       "      <td>11</td>\n",
       "      <td>0</td>\n",
       "      <td>0</td>\n",
       "      <td>2</td>\n",
       "      <td>0</td>\n",
       "    </tr>\n",
       "    <tr>\n",
       "      <th>4519</th>\n",
       "      <td>1</td>\n",
       "      <td>1</td>\n",
       "      <td>1</td>\n",
       "      <td>1</td>\n",
       "      <td>0</td>\n",
       "      <td>3</td>\n",
       "      <td>0</td>\n",
       "      <td>0</td>\n",
       "      <td>1</td>\n",
       "      <td>129</td>\n",
       "      <td>4</td>\n",
       "      <td>0</td>\n",
       "      <td>3</td>\n",
       "      <td>2</td>\n",
       "      <td>0</td>\n",
       "    </tr>\n",
       "    <tr>\n",
       "      <th>4520</th>\n",
       "      <td>2</td>\n",
       "      <td>1</td>\n",
       "      <td>0</td>\n",
       "      <td>2</td>\n",
       "      <td>0</td>\n",
       "      <td>3</td>\n",
       "      <td>1</td>\n",
       "      <td>1</td>\n",
       "      <td>1</td>\n",
       "      <td>345</td>\n",
       "      <td>2</td>\n",
       "      <td>0</td>\n",
       "      <td>7</td>\n",
       "      <td>2</td>\n",
       "      <td>0</td>\n",
       "    </tr>\n",
       "  </tbody>\n",
       "</table>\n",
       "<p>4521 rows × 15 columns</p>\n",
       "</div>"
      ],
      "text/plain": [
       "      age  job  marital  education  default  balance  housing  loan  contact  \\\n",
       "0       1    3        1          0        0        4        0     0        1   \n",
       "1       1    1        1          1        0        4        1     1        1   \n",
       "2       2    1        0          2        0        3        1     0        1   \n",
       "3       1    1        1          2        0        3        1     1        2   \n",
       "4       3    1        1          1        0        1        1     0        2   \n",
       "...   ...  ...      ...        ...      ...      ...      ...   ...      ...   \n",
       "4516    1    1        1          1        0        0        1     0        1   \n",
       "4517    3    1        1          2        1        0        1     1        2   \n",
       "4518    3    1        1          1        0        2        0     0        1   \n",
       "4519    1    1        1          1        0        3        0     0        1   \n",
       "4520    2    1        0          2        0        3        1     1        1   \n",
       "\n",
       "      duration  campaign  pdays  previous  poutcome  y  \n",
       "0           79         1      0         0         2  0  \n",
       "1          220         1      0         4         0  0  \n",
       "2          185         1      0         1         0  0  \n",
       "3          199         4      0         0         2  0  \n",
       "4          226         1      0         0         2  0  \n",
       "...        ...       ...    ...       ...       ... ..  \n",
       "4516       329         5      0         0         2  0  \n",
       "4517       153         1      0         0         2  0  \n",
       "4518       151        11      0         0         2  0  \n",
       "4519       129         4      0         3         2  0  \n",
       "4520       345         2      0         7         2  0  \n",
       "\n",
       "[4521 rows x 15 columns]"
      ]
     },
     "execution_count": 84,
     "metadata": {},
     "output_type": "execute_result"
    }
   ],
   "source": [
    "df"
   ]
  },
  {
   "cell_type": "markdown",
   "metadata": {},
   "source": [
    "## MAG\n",
    "\n",
    "The attributes for the MAG are selected below and the graph is thereafter generated."
   ]
  },
  {
   "cell_type": "code",
   "execution_count": 85,
   "metadata": {},
   "outputs": [
    {
     "name": "stderr",
     "output_type": "stream",
     "text": [
      "/usr/local/Caskroom/miniconda/base/lib/python3.8/site-packages/pandas/core/generic.py:5494: SettingWithCopyWarning: \n",
      "A value is trying to be set on a copy of a slice from a DataFrame.\n",
      "Try using .loc[row_indexer,col_indexer] = value instead\n",
      "\n",
      "See the caveats in the documentation: https://pandas.pydata.org/pandas-docs/stable/user_guide/indexing.html#returning-a-view-versus-a-copy\n",
      "  self[name] = value\n"
     ]
    },
    {
     "data": {
      "text/html": [
       "<div>\n",
       "<style scoped>\n",
       "    .dataframe tbody tr th:only-of-type {\n",
       "        vertical-align: middle;\n",
       "    }\n",
       "\n",
       "    .dataframe tbody tr th {\n",
       "        vertical-align: top;\n",
       "    }\n",
       "\n",
       "    .dataframe thead th {\n",
       "        text-align: right;\n",
       "    }\n",
       "</style>\n",
       "<table border=\"1\" class=\"dataframe\">\n",
       "  <thead>\n",
       "    <tr style=\"text-align: right;\">\n",
       "      <th></th>\n",
       "      <th>age</th>\n",
       "      <th>job</th>\n",
       "      <th>marital</th>\n",
       "      <th>education</th>\n",
       "      <th>balance</th>\n",
       "      <th>housing</th>\n",
       "      <th>duration</th>\n",
       "    </tr>\n",
       "  </thead>\n",
       "  <tbody>\n",
       "    <tr>\n",
       "      <th>0</th>\n",
       "      <td>1</td>\n",
       "      <td>3</td>\n",
       "      <td>1</td>\n",
       "      <td>0</td>\n",
       "      <td>4</td>\n",
       "      <td>0</td>\n",
       "      <td>0</td>\n",
       "    </tr>\n",
       "    <tr>\n",
       "      <th>1</th>\n",
       "      <td>1</td>\n",
       "      <td>1</td>\n",
       "      <td>1</td>\n",
       "      <td>1</td>\n",
       "      <td>4</td>\n",
       "      <td>1</td>\n",
       "      <td>0</td>\n",
       "    </tr>\n",
       "    <tr>\n",
       "      <th>2</th>\n",
       "      <td>2</td>\n",
       "      <td>1</td>\n",
       "      <td>0</td>\n",
       "      <td>2</td>\n",
       "      <td>3</td>\n",
       "      <td>1</td>\n",
       "      <td>0</td>\n",
       "    </tr>\n",
       "    <tr>\n",
       "      <th>3</th>\n",
       "      <td>1</td>\n",
       "      <td>1</td>\n",
       "      <td>1</td>\n",
       "      <td>2</td>\n",
       "      <td>3</td>\n",
       "      <td>1</td>\n",
       "      <td>0</td>\n",
       "    </tr>\n",
       "    <tr>\n",
       "      <th>4</th>\n",
       "      <td>3</td>\n",
       "      <td>1</td>\n",
       "      <td>1</td>\n",
       "      <td>1</td>\n",
       "      <td>1</td>\n",
       "      <td>1</td>\n",
       "      <td>0</td>\n",
       "    </tr>\n",
       "    <tr>\n",
       "      <th>...</th>\n",
       "      <td>...</td>\n",
       "      <td>...</td>\n",
       "      <td>...</td>\n",
       "      <td>...</td>\n",
       "      <td>...</td>\n",
       "      <td>...</td>\n",
       "      <td>...</td>\n",
       "    </tr>\n",
       "    <tr>\n",
       "      <th>4516</th>\n",
       "      <td>1</td>\n",
       "      <td>1</td>\n",
       "      <td>1</td>\n",
       "      <td>1</td>\n",
       "      <td>0</td>\n",
       "      <td>1</td>\n",
       "      <td>0</td>\n",
       "    </tr>\n",
       "    <tr>\n",
       "      <th>4517</th>\n",
       "      <td>3</td>\n",
       "      <td>1</td>\n",
       "      <td>1</td>\n",
       "      <td>2</td>\n",
       "      <td>0</td>\n",
       "      <td>1</td>\n",
       "      <td>0</td>\n",
       "    </tr>\n",
       "    <tr>\n",
       "      <th>4518</th>\n",
       "      <td>3</td>\n",
       "      <td>1</td>\n",
       "      <td>1</td>\n",
       "      <td>1</td>\n",
       "      <td>2</td>\n",
       "      <td>0</td>\n",
       "      <td>0</td>\n",
       "    </tr>\n",
       "    <tr>\n",
       "      <th>4519</th>\n",
       "      <td>1</td>\n",
       "      <td>1</td>\n",
       "      <td>1</td>\n",
       "      <td>1</td>\n",
       "      <td>3</td>\n",
       "      <td>0</td>\n",
       "      <td>0</td>\n",
       "    </tr>\n",
       "    <tr>\n",
       "      <th>4520</th>\n",
       "      <td>2</td>\n",
       "      <td>1</td>\n",
       "      <td>0</td>\n",
       "      <td>2</td>\n",
       "      <td>3</td>\n",
       "      <td>1</td>\n",
       "      <td>0</td>\n",
       "    </tr>\n",
       "  </tbody>\n",
       "</table>\n",
       "<p>4521 rows × 7 columns</p>\n",
       "</div>"
      ],
      "text/plain": [
       "      age  job  marital  education  balance  housing  duration\n",
       "0       1    3        1          0        4        0         0\n",
       "1       1    1        1          1        4        1         0\n",
       "2       2    1        0          2        3        1         0\n",
       "3       1    1        1          2        3        1         0\n",
       "4       3    1        1          1        1        1         0\n",
       "...   ...  ...      ...        ...      ...      ...       ...\n",
       "4516    1    1        1          1        0        1         0\n",
       "4517    3    1        1          2        0        1         0\n",
       "4518    3    1        1          1        2        0         0\n",
       "4519    1    1        1          1        3        0         0\n",
       "4520    2    1        0          2        3        1         0\n",
       "\n",
       "[4521 rows x 7 columns]"
      ]
     },
     "execution_count": 85,
     "metadata": {},
     "output_type": "execute_result"
    }
   ],
   "source": [
    "X = df[['age','job','marital','education','balance','housing','duration']]\n",
    "X.duration = X.duration.apply(lambda x: 0 if x < 400 else 1)\n",
    "X"
   ]
  },
  {
   "cell_type": "code",
   "execution_count": 6,
   "metadata": {},
   "outputs": [],
   "source": [
    "# age\n",
    "age_alpha0 = 0.90\n",
    "age_beta1 = 0.80\n",
    "age_beta2 = 0.60\n",
    "age_beta3 = 0.40\n",
    "age_beta4 = 0.20\n",
    "\n",
    "aff_age = np.array([[age_alpha0,age_beta1,age_beta2,age_beta3,age_beta4],\n",
    "                    [age_beta1,age_alpha0,age_beta1,age_beta2,age_beta3],\n",
    "                    [age_beta2,age_beta1,age_alpha0,age_beta1,age_beta2],\n",
    "                    [age_beta3,age_beta2,age_beta1,age_alpha0,age_beta1],\n",
    "                    [age_beta4,age_beta3,age_beta2,age_beta1,age_alpha0]])\n",
    "\n",
    "\n",
    "# job\n",
    "\n",
    "job_alpha0 = 0.90 # self\n",
    "job_beta_wf = 0.60 # workforce\n",
    "job_beta_nwf = 0.60 # not worforce\n",
    "\n",
    "#aff_job = np.array([[job_alpha0, job_beta_wf , job_beta_wf , job_beta_wf , job_beta_nwf, job_beta_nwf],\n",
    "#                    [job_beta_nwf, job_alpha0, job_beta_wf, job_beta_wf, job_beta_nwf, job_beta_nwf],\n",
    "#                    [job_beta_nwf, job_beta_wf, job_alpha0, job_beta_wf, job_beta_nwf, job_beta_nwf],\n",
    "#                    [job_beta_nwf, job_beta_wf, job_beta_wf, job_alpha0, job_beta_nwf, job_beta_nwf],\n",
    "#                    [job_beta_nwf, job_beta_wf, job_beta_wf, job_beta_wf, job_alpha0, job_beta_nwf],\n",
    "#                    [job_beta_nwf, job_beta_wf, job_beta_wf, job_beta_wf, job_beta_nwf, job_alpha0]])\n",
    "\n",
    "# employment\n",
    "emp_alpha0 = 0.90 # self\n",
    "emp_beta_wf = 0.75 # beta workforce / employed / unemployed vs student\n",
    "emp_beta_ret = 0.70 # beta retired vs workforce\n",
    "emp_beta_sr = 0.20 # gen gap student / retired\n",
    "\n",
    "aff_job = np.array([[emp_alpha0,emp_beta_wf,emp_beta_sr,emp_beta_wf],\n",
    "                    [emp_beta_wf,emp_alpha0,emp_beta_ret,emp_beta_wf],\n",
    "                    [emp_beta_sr,emp_beta_ret,emp_alpha0,emp_beta_ret],\n",
    "                    [emp_beta_wf,emp_beta_wf,emp_beta_ret,emp_alpha0]])\n",
    "\n",
    "\n",
    "# marital\n",
    "\n",
    "mar_alpha0 = 0.85\n",
    "mar_beta1 = 0.65\n",
    "\n",
    "aff_mar = np.array([[mar_alpha0, mar_beta1, mar_beta1],\n",
    "                    [mar_beta1, mar_alpha0, mar_beta1],\n",
    "                    [mar_beta1, mar_beta1, mar_alpha0]])\n",
    "\n",
    "# education\n",
    "edu_alpha0 = 0.85\n",
    "edu_beta1 = 0.70\n",
    "edu_beta2 = 0.55\n",
    "edu_beta3 = 0.40\n",
    "\n",
    "aff_edu = np.array([[edu_alpha0,edu_beta1,edu_beta2,edu_beta3],\n",
    "                    [edu_beta1,edu_alpha0,edu_beta1,edu_beta2],\n",
    "                    [edu_beta2,edu_beta1,edu_alpha0,edu_beta1],\n",
    "                    [edu_beta3,edu_beta2,edu_beta1,edu_alpha0]])\n",
    "\n",
    "\n",
    "# balance\n",
    "inc_alpha0 = 0.85\n",
    "inc_beta1 = 0.70\n",
    "inc_beta2 = 0.60\n",
    "inc_beta3 = 0.50\n",
    "inc_beta4 = 0.40\n",
    "inc_beta5 = 0.25\n",
    "\n",
    "aff_bal = np.array([[inc_alpha0,inc_beta1,inc_beta2,inc_beta3,inc_beta4],\n",
    "                    [inc_beta1,inc_alpha0,inc_beta1,inc_beta2,inc_beta3],\n",
    "                    [inc_beta2,inc_beta1,inc_alpha0,inc_beta1,inc_beta2],\n",
    "                    [inc_beta3,inc_beta2,inc_beta1,inc_alpha0,inc_beta1],\n",
    "                    [inc_beta4,inc_beta3,inc_beta2,inc_beta2,inc_alpha0]])\n",
    "\n",
    "# housing\n",
    "hous_alpha0 = 0.60\n",
    "hous_beta1 = 0.40\n",
    "\n",
    "aff_hous = np.array([[hous_alpha0,hous_beta1],\n",
    "                     [hous_beta1,hous_alpha0]])\n",
    "\n",
    "\n",
    "# duration\n",
    "dur_alpha0 = 0.70\n",
    "dur_alpha1 = 0.95\n",
    "dur_beta1 = 0.25\n",
    "\n",
    "aff_dur = np.array([[dur_alpha0,dur_beta1],\n",
    "                  [dur_beta1,dur_alpha1]])\n",
    "\n",
    "# outcome\n",
    "\n",
    "#y_alpha1 = 0.95\n",
    "#y_beta1 = 0.25\n",
    "\n",
    "#aff_y = np.array([[y_alpha1,y_beta1],\n",
    "#                  [y_beta1,y_alpha1]])\n",
    "\n",
    "aff = {}\n",
    "aff = {0:aff_age, 1:aff_job ,2:aff_mar ,3:aff_edu ,4:aff_bal ,5:aff_hous,6:aff_dur}"
   ]
  },
  {
   "cell_type": "code",
   "execution_count": 7,
   "metadata": {},
   "outputs": [],
   "source": [
    "x = X[['age','job','marital','education','balance','housing','duration']]\n",
    "x = x.to_numpy()\n",
    "x = x.T\n",
    "\n",
    "P_u_v = np.empty((len(x.T),len(x.T)))\n",
    "prob_u_v = np.empty((len(x),1))\n",
    "u = np.empty((len(x),1))\n",
    "v = np.empty((len(x),1))\n",
    "\n",
    "# create probability for connection between u and v\n",
    "for i in range(len(x.T)):\n",
    "    u = x[:,i]\n",
    "\n",
    "    for k in range(len(x.T)):\n",
    "        v = x[:,k]\n",
    "\n",
    "        for j in range(len(x)):\n",
    "            aff_current = aff[j]\n",
    "            prob_u_v[j] = aff_current[u[j],v[j]]\n",
    "\n",
    "        P_u_v[i,k] = np.prod(prob_u_v) "
   ]
  },
  {
   "cell_type": "code",
   "execution_count": 8,
   "metadata": {},
   "outputs": [],
   "source": [
    "A = np.triu(P_u_v,1)\n",
    "\n",
    "for i in range(len(P_u_v)):\n",
    "    for j in range(len(P_u_v)):\n",
    "        if A[i,j] > np.random.rand():\n",
    "            A[i,j] = 1\n",
    "        else:\n",
    "            A[i,j] = 0\n",
    "\n"
   ]
  },
  {
   "cell_type": "code",
   "execution_count": 9,
   "metadata": {},
   "outputs": [
    {
     "data": {
      "text/plain": [
       "737032.0"
      ]
     },
     "execution_count": 9,
     "metadata": {},
     "output_type": "execute_result"
    }
   ],
   "source": [
    "A = A + A.T - np.diag(np.diag(A))\n",
    "np.sum(A) / 2"
   ]
  },
  {
   "cell_type": "code",
   "execution_count": 10,
   "metadata": {},
   "outputs": [],
   "source": [
    "G = nx.from_numpy_matrix(A)"
   ]
  },
  {
   "cell_type": "markdown",
   "metadata": {},
   "source": [
    "## Node2Vec\n",
    "\n",
    "Below the node embeddings are generated using the node2vec algorithm"
   ]
  },
  {
   "cell_type": "code",
   "execution_count": 11,
   "metadata": {},
   "outputs": [
    {
     "data": {
      "application/vnd.jupyter.widget-view+json": {
       "model_id": "95e10f2bddef4053a1f557e94dbf774b",
       "version_major": 2,
       "version_minor": 0
      },
      "text/plain": [
       "Computing transition probabilities:   0%|          | 0/4521 [00:00<?, ?it/s]"
      ]
     },
     "metadata": {},
     "output_type": "display_data"
    },
    {
     "name": "stderr",
     "output_type": "stream",
     "text": [
      "Generating walks (CPU: 1): 100%|██████████| 200/200 [1:29:36<00:00, 26.88s/it]\n"
     ]
    }
   ],
   "source": [
    "node2vec = Node2Vec(G, dimensions=6, walk_length=30, num_walks=200, workers=1)"
   ]
  },
  {
   "cell_type": "code",
   "execution_count": 12,
   "metadata": {},
   "outputs": [],
   "source": [
    "model = node2vec.fit(window=10, min_count=1, batch_words=4)"
   ]
  },
  {
   "cell_type": "code",
   "execution_count": 13,
   "metadata": {},
   "outputs": [],
   "source": [
    "model.wv.save_word2vec_format('embeddings')"
   ]
  },
  {
   "cell_type": "markdown",
   "metadata": {},
   "source": [
    "The node embeddings are saved and are loaded again. The node embeddings are saved as the node2vec prodedure can take up a lot of time."
   ]
  },
  {
   "cell_type": "code",
   "execution_count": 86,
   "metadata": {},
   "outputs": [
    {
     "data": {
      "text/plain": [
       "(4521, 6)"
      ]
     },
     "execution_count": 86,
     "metadata": {},
     "output_type": "execute_result"
    }
   ],
   "source": [
    "t = pd.read_csv('embeddings', delimiter = \" \", index_col=0, header = None)\n",
    "t.sort_index(inplace=True)\n",
    "t.columns = ['x1','x2','x3','x4','x5','x6']\n",
    "t = t.to_numpy()\n",
    "t.shape"
   ]
  },
  {
   "cell_type": "markdown",
   "metadata": {},
   "source": [
    "## Downstream Machine Learning\n",
    "\n",
    "Below the node embeddingare used for downstream machine learning"
   ]
  },
  {
   "cell_type": "markdown",
   "metadata": {},
   "source": [
    "### ANN"
   ]
  },
  {
   "cell_type": "code",
   "execution_count": 120,
   "metadata": {},
   "outputs": [],
   "source": [
    "x_train, x_test, y_train, y_test = train_test_split(t,df.y, test_size = 0.2, shuffle=True)"
   ]
  },
  {
   "cell_type": "code",
   "execution_count": 121,
   "metadata": {},
   "outputs": [
    {
     "name": "stdout",
     "output_type": "stream",
     "text": [
      "Epoch 1/50\n",
      "362/362 [==============================] - 2s 3ms/step - loss: 0.5235 - accuracy: 0.8846 - val_loss: 0.3422 - val_accuracy: 0.8972\n",
      "Epoch 2/50\n",
      "362/362 [==============================] - 1s 3ms/step - loss: 0.3627 - accuracy: 0.8839 - val_loss: 0.3154 - val_accuracy: 0.8972\n",
      "Epoch 3/50\n",
      "362/362 [==============================] - 1s 2ms/step - loss: 0.3269 - accuracy: 0.8882 - val_loss: 0.2986 - val_accuracy: 0.8972\n",
      "Epoch 4/50\n",
      "362/362 [==============================] - 1s 4ms/step - loss: 0.3173 - accuracy: 0.8827 - val_loss: 0.2893 - val_accuracy: 0.8972\n",
      "Epoch 5/50\n",
      "362/362 [==============================] - 1s 3ms/step - loss: 0.3121 - accuracy: 0.8811 - val_loss: 0.2881 - val_accuracy: 0.8972\n",
      "Epoch 6/50\n",
      "362/362 [==============================] - 1s 3ms/step - loss: 0.3004 - accuracy: 0.8863 - val_loss: 0.2891 - val_accuracy: 0.8972\n",
      "Epoch 7/50\n",
      "362/362 [==============================] - 1s 3ms/step - loss: 0.2988 - accuracy: 0.8838 - val_loss: 0.2899 - val_accuracy: 0.8983\n",
      "Epoch 8/50\n",
      "362/362 [==============================] - 2s 5ms/step - loss: 0.3228 - accuracy: 0.8748 - val_loss: 0.2882 - val_accuracy: 0.8972\n",
      "Epoch 9/50\n",
      "362/362 [==============================] - 1s 3ms/step - loss: 0.3091 - accuracy: 0.8759 - val_loss: 0.2861 - val_accuracy: 0.8972\n",
      "Epoch 10/50\n",
      "362/362 [==============================] - 1s 4ms/step - loss: 0.3021 - accuracy: 0.8823 - val_loss: 0.2859 - val_accuracy: 0.8972\n",
      "Epoch 11/50\n",
      "362/362 [==============================] - 1s 3ms/step - loss: 0.2947 - accuracy: 0.8833 - val_loss: 0.2872 - val_accuracy: 0.8972\n",
      "Epoch 12/50\n",
      "362/362 [==============================] - 1s 2ms/step - loss: 0.3091 - accuracy: 0.8812 - val_loss: 0.2867 - val_accuracy: 0.8972\n",
      "Epoch 13/50\n",
      "362/362 [==============================] - 1s 2ms/step - loss: 0.3215 - accuracy: 0.8743 - val_loss: 0.2863 - val_accuracy: 0.8972\n",
      "Epoch 14/50\n",
      "362/362 [==============================] - 1s 3ms/step - loss: 0.3018 - accuracy: 0.8796 - val_loss: 0.2871 - val_accuracy: 0.8972\n",
      "Epoch 15/50\n",
      "362/362 [==============================] - 1s 2ms/step - loss: 0.3121 - accuracy: 0.8809 - val_loss: 0.2865 - val_accuracy: 0.8972\n",
      "Epoch 16/50\n",
      "362/362 [==============================] - 1s 2ms/step - loss: 0.2970 - accuracy: 0.8858 - val_loss: 0.2860 - val_accuracy: 0.8972\n",
      "Epoch 17/50\n",
      "362/362 [==============================] - 1s 2ms/step - loss: 0.3107 - accuracy: 0.8777 - val_loss: 0.2859 - val_accuracy: 0.8972\n",
      "Epoch 18/50\n",
      "362/362 [==============================] - 2s 5ms/step - loss: 0.3108 - accuracy: 0.8809 - val_loss: 0.2859 - val_accuracy: 0.8972\n",
      "Epoch 19/50\n",
      "362/362 [==============================] - 1s 3ms/step - loss: 0.2908 - accuracy: 0.8922 - val_loss: 0.2877 - val_accuracy: 0.8972\n",
      "Epoch 20/50\n",
      "362/362 [==============================] - 1s 3ms/step - loss: 0.3067 - accuracy: 0.8764 - val_loss: 0.2865 - val_accuracy: 0.8972\n",
      "Epoch 21/50\n",
      "362/362 [==============================] - 2s 5ms/step - loss: 0.2978 - accuracy: 0.8842 - val_loss: 0.2879 - val_accuracy: 0.8972\n",
      "Epoch 22/50\n",
      "362/362 [==============================] - 1s 4ms/step - loss: 0.3063 - accuracy: 0.8766 - val_loss: 0.2858 - val_accuracy: 0.8972\n",
      "Epoch 23/50\n",
      "362/362 [==============================] - 1s 2ms/step - loss: 0.3068 - accuracy: 0.8814 - val_loss: 0.2859 - val_accuracy: 0.8972\n",
      "Epoch 24/50\n",
      "362/362 [==============================] - 1s 3ms/step - loss: 0.3151 - accuracy: 0.8774 - val_loss: 0.2866 - val_accuracy: 0.8972\n",
      "Epoch 25/50\n",
      "362/362 [==============================] - 1s 2ms/step - loss: 0.3232 - accuracy: 0.8720 - val_loss: 0.2864 - val_accuracy: 0.8972\n",
      "Epoch 26/50\n",
      "362/362 [==============================] - 1s 2ms/step - loss: 0.3270 - accuracy: 0.8769 - val_loss: 0.2868 - val_accuracy: 0.8972\n",
      "Epoch 27/50\n",
      "362/362 [==============================] - 1s 2ms/step - loss: 0.3186 - accuracy: 0.8759 - val_loss: 0.2866 - val_accuracy: 0.8972\n",
      "Epoch 28/50\n",
      "362/362 [==============================] - 1s 3ms/step - loss: 0.3006 - accuracy: 0.8829 - val_loss: 0.2858 - val_accuracy: 0.8972\n",
      "Epoch 29/50\n",
      "362/362 [==============================] - 1s 2ms/step - loss: 0.3043 - accuracy: 0.8779 - val_loss: 0.2857 - val_accuracy: 0.8972\n",
      "Epoch 30/50\n",
      "362/362 [==============================] - 1s 2ms/step - loss: 0.2918 - accuracy: 0.8810 - val_loss: 0.2856 - val_accuracy: 0.8972\n",
      "Epoch 31/50\n",
      "362/362 [==============================] - 1s 2ms/step - loss: 0.3062 - accuracy: 0.8831 - val_loss: 0.2868 - val_accuracy: 0.8972\n",
      "Epoch 32/50\n",
      "362/362 [==============================] - 1s 4ms/step - loss: 0.3136 - accuracy: 0.8780 - val_loss: 0.2859 - val_accuracy: 0.8972\n",
      "Epoch 33/50\n",
      "362/362 [==============================] - 1s 2ms/step - loss: 0.3004 - accuracy: 0.8813 - val_loss: 0.2862 - val_accuracy: 0.8972\n",
      "Epoch 34/50\n",
      "362/362 [==============================] - 1s 3ms/step - loss: 0.2880 - accuracy: 0.8877 - val_loss: 0.2873 - val_accuracy: 0.8972\n",
      "Epoch 35/50\n",
      "362/362 [==============================] - 1s 2ms/step - loss: 0.3053 - accuracy: 0.8799 - val_loss: 0.2860 - val_accuracy: 0.8972\n",
      "Epoch 36/50\n",
      "362/362 [==============================] - 1s 2ms/step - loss: 0.2868 - accuracy: 0.8911 - val_loss: 0.2876 - val_accuracy: 0.8972\n",
      "Epoch 37/50\n",
      "362/362 [==============================] - 1s 3ms/step - loss: 0.3073 - accuracy: 0.8740 - val_loss: 0.2859 - val_accuracy: 0.8972\n",
      "Epoch 38/50\n",
      "362/362 [==============================] - 1s 2ms/step - loss: 0.3049 - accuracy: 0.8819 - val_loss: 0.2865 - val_accuracy: 0.8972\n",
      "Epoch 39/50\n",
      "362/362 [==============================] - 1s 2ms/step - loss: 0.3032 - accuracy: 0.8821 - val_loss: 0.2866 - val_accuracy: 0.8972\n",
      "Epoch 40/50\n",
      "362/362 [==============================] - 1s 2ms/step - loss: 0.2965 - accuracy: 0.8918 - val_loss: 0.2892 - val_accuracy: 0.8972\n",
      "Epoch 41/50\n",
      "362/362 [==============================] - 1s 2ms/step - loss: 0.2912 - accuracy: 0.8914 - val_loss: 0.2871 - val_accuracy: 0.8972\n",
      "Epoch 42/50\n",
      "362/362 [==============================] - 1s 3ms/step - loss: 0.3184 - accuracy: 0.8764 - val_loss: 0.2859 - val_accuracy: 0.8972\n",
      "Epoch 43/50\n",
      "362/362 [==============================] - 1s 2ms/step - loss: 0.3189 - accuracy: 0.8765 - val_loss: 0.2860 - val_accuracy: 0.8972\n",
      "Epoch 44/50\n",
      "362/362 [==============================] - 1s 2ms/step - loss: 0.3184 - accuracy: 0.8682 - val_loss: 0.2864 - val_accuracy: 0.8972\n",
      "Epoch 45/50\n",
      "362/362 [==============================] - 1s 2ms/step - loss: 0.2987 - accuracy: 0.8877 - val_loss: 0.2865 - val_accuracy: 0.8972\n",
      "Epoch 46/50\n",
      "362/362 [==============================] - 1s 2ms/step - loss: 0.3088 - accuracy: 0.8821 - val_loss: 0.2862 - val_accuracy: 0.8972\n",
      "Epoch 47/50\n",
      "362/362 [==============================] - 1s 3ms/step - loss: 0.3127 - accuracy: 0.8744 - val_loss: 0.2865 - val_accuracy: 0.8972\n",
      "Epoch 48/50\n",
      "362/362 [==============================] - 1s 4ms/step - loss: 0.3141 - accuracy: 0.8787 - val_loss: 0.2867 - val_accuracy: 0.8972\n",
      "Epoch 49/50\n",
      "362/362 [==============================] - 2s 6ms/step - loss: 0.3068 - accuracy: 0.8757 - val_loss: 0.2868 - val_accuracy: 0.8972\n",
      "Epoch 50/50\n",
      "362/362 [==============================] - 2s 4ms/step - loss: 0.3130 - accuracy: 0.8800 - val_loss: 0.2872 - val_accuracy: 0.8972\n"
     ]
    }
   ],
   "source": [
    "x_train_tf = tf.convert_to_tensor(x_train)\n",
    "x_test_tf = tf.convert_to_tensor(x_test)\n",
    "y_train_tf = tf.convert_to_tensor(y_train)\n",
    "y_test_tf = tf.convert_to_tensor(y_test)\n",
    "\n",
    "model = Sequential()\n",
    "\n",
    "model.add(Dense(12, activation='relu', name='layer1'))\n",
    "model.add(Dense(8, activation='relu', name='layer2'))\n",
    "model.add(Dense(1, activation='sigmoid', name='layer3'))\n",
    "\n",
    "model.compile(loss='binary_crossentropy', optimizer='adam', metrics=['accuracy'])\n",
    "history = model.fit(x_train_tf, y_train_tf, validation_data=(x_test_tf,y_test_tf), epochs=50, batch_size=10)"
   ]
  },
  {
   "cell_type": "code",
   "execution_count": 122,
   "metadata": {},
   "outputs": [
    {
     "data": {
      "image/png": "[encoded data removed]",
      "text/plain": [
       "<Figure size 432x288 with 1 Axes>"
      ]
     },
     "metadata": {
      "needs_background": "light"
     },
     "output_type": "display_data"
    }
   ],
   "source": [
    "plt.plot(history.history['loss'],label = 'Training Loss', color = 'blue')\n",
    "plt.plot(history.history['val_loss'],label = 'Validation Loss', color = 'red')\n",
    "plt.xlabel('Number of Epochs')\n",
    "plt.ylabel('Binary Cross-Entropy Loss')\n",
    "plt.title('Loss per Epoch')\n",
    "plt.legend()\n",
    "plt.show()"
   ]
  },
  {
   "cell_type": "code",
   "execution_count": 123,
   "metadata": {},
   "outputs": [
    {
     "data": {
      "text/plain": [
       "<KerasTensor: shape=(None, 1) dtype=float32 (created by layer 'layer3')>"
      ]
     },
     "execution_count": 123,
     "metadata": {},
     "output_type": "execute_result"
    }
   ],
   "source": [
    "model.layers[2].output"
   ]
  },
  {
   "cell_type": "code",
   "execution_count": 124,
   "metadata": {},
   "outputs": [
    {
     "name": "stdout",
     "output_type": "stream",
     "text": [
      "Model: \"sequential_4\"\n",
      "_________________________________________________________________\n",
      "Layer (type)                 Output Shape              Param #   \n",
      "=================================================================\n",
      "layer1 (Dense)               (None, 12)                84        \n",
      "_________________________________________________________________\n",
      "layer2 (Dense)               (None, 8)                 104       \n",
      "_________________________________________________________________\n",
      "layer3 (Dense)               (None, 1)                 9         \n",
      "=================================================================\n",
      "Total params: 197\n",
      "Trainable params: 197\n",
      "Non-trainable params: 0\n",
      "_________________________________________________________________\n"
     ]
    }
   ],
   "source": [
    "model.summary()"
   ]
  },
  {
   "cell_type": "code",
   "execution_count": 125,
   "metadata": {},
   "outputs": [
    {
     "data": {
      "text/plain": [
       "0.11836283185840708"
      ]
     },
     "execution_count": 125,
     "metadata": {},
     "output_type": "execute_result"
    }
   ],
   "source": [
    "np.sum(y_train) / len(y_train)"
   ]
  },
  {
   "cell_type": "markdown",
   "metadata": {},
   "source": [
    "### Logistic Regression"
   ]
  },
  {
   "cell_type": "code",
   "execution_count": 126,
   "metadata": {},
   "outputs": [
    {
     "name": "stdout",
     "output_type": "stream",
     "text": [
      "Optimization terminated successfully.\n",
      "         Current function value: 0.307106\n",
      "         Iterations 7\n",
      "                           Logit Regression Results                           \n",
      "==============================================================================\n",
      "Dep. Variable:                      y   No. Observations:                 3616\n",
      "Model:                          Logit   Df Residuals:                     3610\n",
      "Method:                           MLE   Df Model:                            5\n",
      "Date:                Sat, 10 Jul 2021   Pseudo R-squ.:                  0.1555\n",
      "Time:                        23:35:36   Log-Likelihood:                -1110.5\n",
      "converged:                       True   LL-Null:                       -1315.0\n",
      "Covariance Type:            nonrobust   LLR p-value:                 3.535e-86\n",
      "==============================================================================\n",
      "                 coef    std err          z      P>|z|      [0.025      0.975]\n",
      "------------------------------------------------------------------------------\n",
      "x1             2.6161      0.244     10.708      0.000       2.137       3.095\n",
      "x2             2.3026      0.264      8.729      0.000       1.786       2.820\n",
      "x3             0.9390      0.222      4.228      0.000       0.504       1.374\n",
      "x4            -0.3486      0.213     -1.636      0.102      -0.766       0.069\n",
      "x5            -4.9268      0.275    -17.897      0.000      -5.466      -4.387\n",
      "x6             4.4628      0.241     18.524      0.000       3.991       4.935\n",
      "==============================================================================\n"
     ]
    }
   ],
   "source": [
    "log_reg = sm.Logit(y_train, x_train).fit()\n",
    "print(log_reg.summary())\n"
   ]
  },
  {
   "cell_type": "code",
   "execution_count": 127,
   "metadata": {},
   "outputs": [
    {
     "name": "stdout",
     "output_type": "stream",
     "text": [
      "Training Accuracy:  0.8763827433628318\n",
      "Validation Accuracy:  0.8994475138121547\n"
     ]
    }
   ],
   "source": [
    "clf = LogisticRegression(random_state=0,max_iter=500).fit(x_train, y_train)\n",
    "print('Training Accuracy: ',clf.score(x_train,y_train))\n",
    "print('Validation Accuracy: ',clf.score(x_test,y_test))"
   ]
  },
  {
   "cell_type": "markdown",
   "metadata": {},
   "source": [
    "### Support Vector Machine"
   ]
  },
  {
   "cell_type": "code",
   "execution_count": 128,
   "metadata": {},
   "outputs": [
    {
     "data": {
      "text/plain": [
       "array([[-1],\n",
       "       [-1],\n",
       "       [-1],\n",
       "       ...,\n",
       "       [-1],\n",
       "       [-1],\n",
       "       [-1]])"
      ]
     },
     "execution_count": 128,
     "metadata": {},
     "output_type": "execute_result"
    }
   ],
   "source": [
    "svm_y = np.empty((len(df.y),1))\n",
    "\n",
    "for i in range(len(df.y)):\n",
    "    if df.y.iloc[i] == 1:\n",
    "        svm_y[i] = 1\n",
    "    else:\n",
    "        svm_y[i] = -1\n",
    "\n",
    "svm_y.astype(int)"
   ]
  },
  {
   "cell_type": "code",
   "execution_count": 129,
   "metadata": {},
   "outputs": [],
   "source": [
    "x_train, x_test, y_train, y_test = train_test_split(t,svm_y, test_size = 0.2, shuffle=True)"
   ]
  },
  {
   "cell_type": "code",
   "execution_count": 130,
   "metadata": {},
   "outputs": [
    {
     "name": "stderr",
     "output_type": "stream",
     "text": [
      "/usr/local/Caskroom/miniconda/base/lib/python3.8/site-packages/sklearn/utils/validation.py:63: DataConversionWarning: A column-vector y was passed when a 1d array was expected. Please change the shape of y to (n_samples, ), for example using ravel().\n",
      "  return f(*args, **kwargs)\n"
     ]
    },
    {
     "name": "stdout",
     "output_type": "stream",
     "text": [
      "Training Accuracy:  0.886891592920354\n",
      "Validation Accuracy:  0.876243093922652\n"
     ]
    }
   ],
   "source": [
    "clf = SVC()\n",
    "clf.fit(x_train,y_train)\n",
    "print('Training Accuracy: ',clf.score(x_train,y_train))\n",
    "print('Validation Accuracy: ',clf.score(x_test,y_test))"
   ]
  },
  {
   "cell_type": "markdown",
   "metadata": {},
   "source": [
    "### Random Forest Classifier"
   ]
  },
  {
   "cell_type": "code",
   "execution_count": 131,
   "metadata": {},
   "outputs": [
    {
     "name": "stderr",
     "output_type": "stream",
     "text": [
      "<ipython-input-131-17489b573de9>:3: DataConversionWarning: A column-vector y was passed when a 1d array was expected. Please change the shape of y to (n_samples,), for example using ravel().\n",
      "  clf.fit(x_train, y_train)\n"
     ]
    },
    {
     "name": "stdout",
     "output_type": "stream",
     "text": [
      "Training Accuracy:  1.0\n",
      "Validation Accuracy:  0.8740331491712707\n"
     ]
    }
   ],
   "source": [
    "clf = RandomForestClassifier(max_depth=None, random_state=0)\n",
    "\n",
    "clf.fit(x_train, y_train)\n",
    "print('Training Accuracy: ',clf.score(x_train,y_train))\n",
    "print('Validation Accuracy: ',clf.score(x_test,y_test))"
   ]
  },
  {
   "cell_type": "markdown",
   "metadata": {},
   "source": [
    "### AdaBoost"
   ]
  },
  {
   "cell_type": "code",
   "execution_count": 132,
   "metadata": {},
   "outputs": [
    {
     "name": "stderr",
     "output_type": "stream",
     "text": [
      "/usr/local/Caskroom/miniconda/base/lib/python3.8/site-packages/sklearn/utils/validation.py:63: DataConversionWarning: A column-vector y was passed when a 1d array was expected. Please change the shape of y to (n_samples, ), for example using ravel().\n",
      "  return f(*args, **kwargs)\n"
     ]
    },
    {
     "name": "stdout",
     "output_type": "stream",
     "text": [
      "Training Accuracy:  0.8951880530973452\n",
      "Validation Accuracy:  0.8718232044198895\n"
     ]
    }
   ],
   "source": [
    "clf = AdaBoostClassifier(n_estimators=100, random_state=0)\n",
    "clf.fit(x_train, y_train)\n",
    "print('Training Accuracy: ',clf.score(x_train,y_train))\n",
    "print('Validation Accuracy: ',clf.score(x_test,y_test))"
   ]
  },
  {
   "cell_type": "markdown",
   "metadata": {},
   "source": [
    "### QDA"
   ]
  },
  {
   "cell_type": "code",
   "execution_count": 133,
   "metadata": {},
   "outputs": [
    {
     "name": "stdout",
     "output_type": "stream",
     "text": [
      "Training Accuracy:  0.8606194690265486\n",
      "Validation Accuracy:  0.8464088397790055\n"
     ]
    },
    {
     "name": "stderr",
     "output_type": "stream",
     "text": [
      "/usr/local/Caskroom/miniconda/base/lib/python3.8/site-packages/sklearn/utils/validation.py:63: DataConversionWarning: A column-vector y was passed when a 1d array was expected. Please change the shape of y to (n_samples, ), for example using ravel().\n",
      "  return f(*args, **kwargs)\n"
     ]
    }
   ],
   "source": [
    "clf = QDA()\n",
    "clf.fit(x_train, y_train)\n",
    "print('Training Accuracy: ',clf.score(x_train,y_train))\n",
    "print('Validation Accuracy: ',clf.score(x_test,y_test))"
   ]
  }
 ],
 "metadata": {
  "kernelspec": {
   "display_name": "Python 3",
   "language": "python",
   "name": "python3"
  },
  "language_info": {
   "codemirror_mode": {
    "name": "ipython",
    "version": 3
   },
   "file_extension": ".py",
   "mimetype": "text/x-python",
   "name": "python",
   "nbconvert_exporter": "python",
   "pygments_lexer": "ipython3",
   "version": "3.8.10"
  },
  "toc": {
   "base_numbering": 1,
   "nav_menu": {},
   "number_sections": true,
   "sideBar": true,
   "skip_h1_title": false,
   "title_cell": "Table of Contents",
   "title_sidebar": "Contents",
   "toc_cell": false,
   "toc_position": {},
   "toc_section_display": true,
   "toc_window_display": false
  },
  "varInspector": {
   "cols": {
    "lenName": 16,
    "lenType": 16,
    "lenVar": 40
   },
   "kernels_config": {
    "python": {
     "delete_cmd_postfix": "",
     "delete_cmd_prefix": "del ",
     "library": "var_list.py",
     "varRefreshCmd": "print(var_dic_list())"
    },
    "r": {
     "delete_cmd_postfix": ") ",
     "delete_cmd_prefix": "rm(",
     "library": "var_list.r",
     "varRefreshCmd": "cat(var_dic_list()) "
    }
   },
   "types_to_exclude": [
    "module",
    "function",
    "builtin_function_or_method",
    "instance",
    "_Feature"
   ],
   "window_display": false
  }
 },
 "nbformat": 4,
 "nbformat_minor": 2
}
