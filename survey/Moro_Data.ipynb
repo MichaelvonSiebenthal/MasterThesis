{
 "metadata": {
  "language_info": {
   "codemirror_mode": {
    "name": "ipython",
    "version": 3
   },
   "file_extension": ".py",
   "mimetype": "text/x-python",
   "name": "python",
   "nbconvert_exporter": "python",
   "pygments_lexer": "ipython3",
   "version": "3.8.8"
  },
  "orig_nbformat": 2,
  "kernelspec": {
   "name": "python388jvsc74a57bd0f85c0ae1067a86ad6a96b144378883e79fd1516474b579ba33ee3a7084540002",
   "display_name": "Python 3.8.8 64-bit ('base': conda)"
  }
 },
 "nbformat": 4,
 "nbformat_minor": 2,
 "cells": [
  {
   "cell_type": "code",
   "execution_count": 3,
   "metadata": {},
   "outputs": [],
   "source": [
    "import numpy as np \n",
    "import pandas as pd \n",
    "import matplotlib.pyplot as plt \n",
    "plt.style.use('ggplot')\n",
    "import networkx as nx\n",
    "# from node2vec import Node2Vec\n",
    "\n",
    "df = pd.read_csv('bank.csv',sep=';')"
   ]
  },
  {
   "cell_type": "code",
   "execution_count": 4,
   "metadata": {},
   "outputs": [
    {
     "output_type": "execute_result",
     "data": {
      "text/plain": [
       "      age            job  marital  education default  balance housing loan  \\\n",
       "0      30     unemployed  married    primary      no     1787      no   no   \n",
       "1      33       services  married  secondary      no     4789     yes  yes   \n",
       "2      35     management   single   tertiary      no     1350     yes   no   \n",
       "3      30     management  married   tertiary      no     1476     yes  yes   \n",
       "4      59    blue-collar  married  secondary      no        0     yes   no   \n",
       "...   ...            ...      ...        ...     ...      ...     ...  ...   \n",
       "4516   33       services  married  secondary      no     -333     yes   no   \n",
       "4517   57  self-employed  married   tertiary     yes    -3313     yes  yes   \n",
       "4518   57     technician  married  secondary      no      295      no   no   \n",
       "4519   28    blue-collar  married  secondary      no     1137      no   no   \n",
       "4520   44   entrepreneur   single   tertiary      no     1136     yes  yes   \n",
       "\n",
       "       contact  day month  duration  campaign  pdays  previous poutcome   y  \n",
       "0     cellular   19   oct        79         1     -1         0  unknown  no  \n",
       "1     cellular   11   may       220         1    339         4  failure  no  \n",
       "2     cellular   16   apr       185         1    330         1  failure  no  \n",
       "3      unknown    3   jun       199         4     -1         0  unknown  no  \n",
       "4      unknown    5   may       226         1     -1         0  unknown  no  \n",
       "...        ...  ...   ...       ...       ...    ...       ...      ...  ..  \n",
       "4516  cellular   30   jul       329         5     -1         0  unknown  no  \n",
       "4517   unknown    9   may       153         1     -1         0  unknown  no  \n",
       "4518  cellular   19   aug       151        11     -1         0  unknown  no  \n",
       "4519  cellular    6   feb       129         4    211         3    other  no  \n",
       "4520  cellular    3   apr       345         2    249         7    other  no  \n",
       "\n",
       "[4521 rows x 17 columns]"
      ],
      "text/html": "<div>\n<style scoped>\n    .dataframe tbody tr th:only-of-type {\n        vertical-align: middle;\n    }\n\n    .dataframe tbody tr th {\n        vertical-align: top;\n    }\n\n    .dataframe thead th {\n        text-align: right;\n    }\n</style>\n<table border=\"1\" class=\"dataframe\">\n  <thead>\n    <tr style=\"text-align: right;\">\n      <th></th>\n      <th>age</th>\n      <th>job</th>\n      <th>marital</th>\n      <th>education</th>\n      <th>default</th>\n      <th>balance</th>\n      <th>housing</th>\n      <th>loan</th>\n      <th>contact</th>\n      <th>day</th>\n      <th>month</th>\n      <th>duration</th>\n      <th>campaign</th>\n      <th>pdays</th>\n      <th>previous</th>\n      <th>poutcome</th>\n      <th>y</th>\n    </tr>\n  </thead>\n  <tbody>\n    <tr>\n      <th>0</th>\n      <td>30</td>\n      <td>unemployed</td>\n      <td>married</td>\n      <td>primary</td>\n      <td>no</td>\n      <td>1787</td>\n      <td>no</td>\n      <td>no</td>\n      <td>cellular</td>\n      <td>19</td>\n      <td>oct</td>\n      <td>79</td>\n      <td>1</td>\n      <td>-1</td>\n      <td>0</td>\n      <td>unknown</td>\n      <td>no</td>\n    </tr>\n    <tr>\n      <th>1</th>\n      <td>33</td>\n      <td>services</td>\n      <td>married</td>\n      <td>secondary</td>\n      <td>no</td>\n      <td>4789</td>\n      <td>yes</td>\n      <td>yes</td>\n      <td>cellular</td>\n      <td>11</td>\n      <td>may</td>\n      <td>220</td>\n      <td>1</td>\n      <td>339</td>\n      <td>4</td>\n      <td>failure</td>\n      <td>no</td>\n    </tr>\n    <tr>\n      <th>2</th>\n      <td>35</td>\n      <td>management</td>\n      <td>single</td>\n      <td>tertiary</td>\n      <td>no</td>\n      <td>1350</td>\n      <td>yes</td>\n      <td>no</td>\n      <td>cellular</td>\n      <td>16</td>\n      <td>apr</td>\n      <td>185</td>\n      <td>1</td>\n      <td>330</td>\n      <td>1</td>\n      <td>failure</td>\n      <td>no</td>\n    </tr>\n    <tr>\n      <th>3</th>\n      <td>30</td>\n      <td>management</td>\n      <td>married</td>\n      <td>tertiary</td>\n      <td>no</td>\n      <td>1476</td>\n      <td>yes</td>\n      <td>yes</td>\n      <td>unknown</td>\n      <td>3</td>\n      <td>jun</td>\n      <td>199</td>\n      <td>4</td>\n      <td>-1</td>\n      <td>0</td>\n      <td>unknown</td>\n      <td>no</td>\n    </tr>\n    <tr>\n      <th>4</th>\n      <td>59</td>\n      <td>blue-collar</td>\n      <td>married</td>\n      <td>secondary</td>\n      <td>no</td>\n      <td>0</td>\n      <td>yes</td>\n      <td>no</td>\n      <td>unknown</td>\n      <td>5</td>\n      <td>may</td>\n      <td>226</td>\n      <td>1</td>\n      <td>-1</td>\n      <td>0</td>\n      <td>unknown</td>\n      <td>no</td>\n    </tr>\n    <tr>\n      <th>...</th>\n      <td>...</td>\n      <td>...</td>\n      <td>...</td>\n      <td>...</td>\n      <td>...</td>\n      <td>...</td>\n      <td>...</td>\n      <td>...</td>\n      <td>...</td>\n      <td>...</td>\n      <td>...</td>\n      <td>...</td>\n      <td>...</td>\n      <td>...</td>\n      <td>...</td>\n      <td>...</td>\n      <td>...</td>\n    </tr>\n    <tr>\n      <th>4516</th>\n      <td>33</td>\n      <td>services</td>\n      <td>married</td>\n      <td>secondary</td>\n      <td>no</td>\n      <td>-333</td>\n      <td>yes</td>\n      <td>no</td>\n      <td>cellular</td>\n      <td>30</td>\n      <td>jul</td>\n      <td>329</td>\n      <td>5</td>\n      <td>-1</td>\n      <td>0</td>\n      <td>unknown</td>\n      <td>no</td>\n    </tr>\n    <tr>\n      <th>4517</th>\n      <td>57</td>\n      <td>self-employed</td>\n      <td>married</td>\n      <td>tertiary</td>\n      <td>yes</td>\n      <td>-3313</td>\n      <td>yes</td>\n      <td>yes</td>\n      <td>unknown</td>\n      <td>9</td>\n      <td>may</td>\n      <td>153</td>\n      <td>1</td>\n      <td>-1</td>\n      <td>0</td>\n      <td>unknown</td>\n      <td>no</td>\n    </tr>\n    <tr>\n      <th>4518</th>\n      <td>57</td>\n      <td>technician</td>\n      <td>married</td>\n      <td>secondary</td>\n      <td>no</td>\n      <td>295</td>\n      <td>no</td>\n      <td>no</td>\n      <td>cellular</td>\n      <td>19</td>\n      <td>aug</td>\n      <td>151</td>\n      <td>11</td>\n      <td>-1</td>\n      <td>0</td>\n      <td>unknown</td>\n      <td>no</td>\n    </tr>\n    <tr>\n      <th>4519</th>\n      <td>28</td>\n      <td>blue-collar</td>\n      <td>married</td>\n      <td>secondary</td>\n      <td>no</td>\n      <td>1137</td>\n      <td>no</td>\n      <td>no</td>\n      <td>cellular</td>\n      <td>6</td>\n      <td>feb</td>\n      <td>129</td>\n      <td>4</td>\n      <td>211</td>\n      <td>3</td>\n      <td>other</td>\n      <td>no</td>\n    </tr>\n    <tr>\n      <th>4520</th>\n      <td>44</td>\n      <td>entrepreneur</td>\n      <td>single</td>\n      <td>tertiary</td>\n      <td>no</td>\n      <td>1136</td>\n      <td>yes</td>\n      <td>yes</td>\n      <td>cellular</td>\n      <td>3</td>\n      <td>apr</td>\n      <td>345</td>\n      <td>2</td>\n      <td>249</td>\n      <td>7</td>\n      <td>other</td>\n      <td>no</td>\n    </tr>\n  </tbody>\n</table>\n<p>4521 rows × 17 columns</p>\n</div>"
     },
     "metadata": {},
     "execution_count": 4
    }
   ],
   "source": [
    "df"
   ]
  },
  {
   "cell_type": "code",
   "execution_count": 9,
   "metadata": {},
   "outputs": [
    {
     "output_type": "execute_result",
     "data": {
      "text/plain": [
       "array(['unemployed', 'services', 'management', 'blue-collar',\n",
       "       'self-employed', 'technician', 'entrepreneur', 'admin.', 'student',\n",
       "       'housemaid', 'retired', 'unknown'], dtype=object)"
      ]
     },
     "metadata": {},
     "execution_count": 9
    }
   ],
   "source": [
    "df.job.unique()"
   ]
  },
  {
   "cell_type": "code",
   "execution_count": null,
   "metadata": {},
   "outputs": [],
   "source": [
    "df.age = df.age.apply(lambda x: 0 if x < 25 else(1 if x < 35 else(2 if x < 50 else(3 if x < 65 else 4))))\n",
    "\n",
    "df.gender = df.gender.apply(lambda x: 0 if x == 'unemployed' else(lambda x: 1 if x == 'services' else(lambda x: 2 if )))\n",
    "\n",
    "df.education = df.education.apply(lambda x: 0 if x == 'Berufslehre / Matura' or \\\n",
    "                                  x == 'High School / Apprenticeship / Secondary Education' \\\n",
    "                                  else(1 if x == 'Höhere Fachschule' or x == 'Technical College' \\\n",
    "                                       else(2 if x == 'Bachelor (Uni/FH)' or x == \"Bachelor's degree\" \\\n",
    "                                            else(3 if x == 'Master (Uni/FH)' or x == \"Master's degree\" else 0))))\n",
    "\n",
    "df.employment = df.employment.apply(lambda x: 0 if x == 'Ausblidung / Student' or x == 'Student' \\\n",
    "                                    else(1 if x == 'Arbeitstätig' or x == 'Employed' \\\n",
    "                                         else(2 if x == 'Nicht erwerbstätig / Pensioniert / Andere' \\\n",
    "                                              or x == 'Not in the workforce / retired / other' else 3)))\n",
    "\n",
    "df.income = df.income.apply(lambda x: 0 if x == \"CHF 0 - CHF 30'000\" or x == \"USD 0 - USD 30'000\" \\\n",
    "                            else(1 if x == \"CHF 30'001 - CHF 50'000\" or x == \"USD 30'001 - USD 50'000\" \\\n",
    "                                 else(2 if x == \"CHF 50'001 - CHF 65'000\" or x == \"USD 50'000 - USD 65'000\" \\\n",
    "                                      else(3 if x == \"CHF 65'001 - CHF CHF 80'000\" \\\n",
    "                                           or x == \"USD 65'001 - USD 80'000\" \\\n",
    "                                           else(4 if x == \"CHF 80'001 - CHF 100'000\" or \\\n",
    "                                                x == \"USD 80'001 - USD 100'000\" else 5)))))\n",
    "\n",
    "df.invested = df.invested.apply(lambda x: 0 if x == 'Nein' or x == 'No' else 1)\n",
    "\n",
    "df.inv_pref = df.inv_pref.apply(lambda x: 0 if x == \"Weiss nciht\" or x == \"Do not know\" \\\n",
    "                                        else(1 if x == \"ETF\" or x == \"ETFs\" \\\n",
    "                                             else(2 if x == \"Einzeltitel wie Aktien, Obligationen oder ein Mix (ohne Anlagefonds)\" \\\n",
    "                                                  or x == \"single securities such as stocks, bonds or a mix (excluding funds)\" \\\n",
    "                                                  else(3 if x == \"Anlagefonds\" or x == \"investment funds\" else 4))))\n",
    "\n",
    "df.fink1 = df.fink1.apply(lambda x: 1 if x == 2 else 0)\n",
    "df.fink2 = df.fink2.apply(lambda x: 1 if x == 'Fahrrad CHF 980' or x == 'Bicycle USD 980' else 0)\n",
    "df.fink3 = df.fink3.apply(lambda x: 1 if x == 102 or x == 2 else 0)\n",
    "df.fink4 = df.fink4.apply(lambda x: 1 if x == 'Ja' or x == 'Yes' else 0)\n",
    "df.fink5 = df.fink5.apply(lambda x: 1 if x == 'Ja' or x ==  'Yes' else 0)\n",
    "df.fink6 = df.fink6.apply(lambda x: 1 if x == 'Ja' or x == 'Yes' else 0)\n",
    "df.fink7 = df.fink7.apply(lambda x: 1 if x == 'Merh asl CHF 110' or x == 'More than USD 110' else 0)"
   ]
  }
 ]
}