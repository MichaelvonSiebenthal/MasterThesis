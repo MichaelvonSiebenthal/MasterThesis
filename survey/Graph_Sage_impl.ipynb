{
 "cells": [
  {
   "cell_type": "code",
   "execution_count": 1,
   "metadata": {},
   "outputs": [],
   "source": [
    "import time\n",
    "import numpy as np \n",
    "import pandas as pd \n",
    "import matplotlib.pyplot as plt \n",
    "plt.style.use('ggplot')\n",
    "import networkx as nx\n",
    "# from node2vec import Node2Vec\n",
    "\n",
    "df0 = pd.read_csv('Kenntnisse und Einstellungen im Finanzbereich.csv')\n",
    "df0.drop(columns='Timestamp',inplace=True)\n",
    "df1 = pd.read_csv('Attitudes and Knowledge Regarding Finance.csv')\n",
    "df1.drop(columns='Timestamp',inplace=True)"
   ]
  },
  {
   "cell_type": "code",
   "execution_count": 2,
   "metadata": {},
   "outputs": [
    {
     "data": {
      "text/plain": [
       "Index(['Alter', 'Geschlecht', 'Nationalität',\n",
       "       'Was entspricht Ihrer zuletzt abgeschlossenen Ausbildung?',\n",
       "       'Was entspricht Ihrer aktuellen primären Tätigkeit?',\n",
       "       'Wie hoch ist Ihr ungefähres Jahreseinkommen?',\n",
       "       'Sind Sie aktuell in Wertschriften wie Aktien, Obligation, Anlagefonds oder ETFs investiert? Falls nicht, könnten Sie sich vorstellen Ihr Geld anzulegen? ',\n",
       "       'In was für Anlagen sind Sie primär investiert, respektive in welche Anlagen könnten Sie sich vorstellen primär zu investieren?',\n",
       "       'Ich tendiere für heute zu leben, der morgige Tag wird für das Seine sorgen.',\n",
       "       'Ich bevorzuge es Geld auszugeben anstelle das Geld langfristig zu sparen.',\n",
       "       'Geld ist dazu da um ausgegeben zu werden.', 'Antwort in Prozent:',\n",
       "       'Mögliche Antworten', 'Antwort in CHF', 'Mögliche Antworten.1',\n",
       "       'Mögliche Antworten.2', 'Mögliche Antworten.3', 'Mögliche Antworten.4'],\n",
       "      dtype='object')"
      ]
     },
     "execution_count": 2,
     "metadata": {},
     "output_type": "execute_result"
    }
   ],
   "source": [
    "df0.columns"
   ]
  },
  {
   "cell_type": "code",
   "execution_count": 3,
   "metadata": {},
   "outputs": [],
   "source": [
    "mapper = list(['age','gender','nationality','education','employment','income','invested','inv_pref','att1','att2','att3','fink1','fink2','fink3','fink4','fink5','fink6','fink7'])\n",
    "df0.columns = mapper\n",
    "df1.columns = mapper\n",
    "comb = [df0, df1]\n",
    "df = pd.concat(comb,ignore_index=True)"
   ]
  },
  {
   "cell_type": "code",
   "execution_count": 4,
   "metadata": {},
   "outputs": [
    {
     "data": {
      "text/plain": [
       "count    113.000000\n",
       "mean      31.637168\n",
       "std       13.238244\n",
       "min       19.000000\n",
       "25%       24.000000\n",
       "50%       27.000000\n",
       "75%       32.000000\n",
       "max       79.000000\n",
       "Name: age, dtype: float64"
      ]
     },
     "execution_count": 4,
     "metadata": {},
     "output_type": "execute_result"
    }
   ],
   "source": [
    "df.age.describe()"
   ]
  },
  {
   "cell_type": "code",
   "execution_count": 5,
   "metadata": {},
   "outputs": [],
   "source": [
    "df.drop(columns='nationality',inplace=True)"
   ]
  },
  {
   "cell_type": "code",
   "execution_count": 6,
   "metadata": {},
   "outputs": [],
   "source": [
    "df.age = df.age.apply(lambda x: 0 if x < 25 else(1 if x < 35 else(2 if x < 50 else(3 if x < 65 else 4))))\n",
    "\n",
    "df.gender = df.gender.apply(lambda x: 0 if x == 'Mann' or x == 'Male' else 1)\n",
    "\n",
    "df.education = df.education.apply(lambda x: 0 if x == 'Berufslehre / Matura' or \\\n",
    "                                  x == 'High School / Apprenticeship / Secondary Education' \\\n",
    "                                  else(1 if x == 'Höhere Fachschule' or x == 'Technical College' \\\n",
    "                                       else(2 if x == 'Bachelor (Uni/FH)' or x == \"Bachelor's degree\" \\\n",
    "                                            else(3 if x == 'Master (Uni/FH)' or x == \"Master's degree\" else 0))))\n",
    "\n",
    "df.employment = df.employment.apply(lambda x: 0 if x == 'Ausblidung / Student' or x == 'Student' \\\n",
    "                                    else(1 if x == 'Arbeitstätig' or x == 'Employed' \\\n",
    "                                         else(2 if x == 'Nicht erwerbstätig / Pensioniert / Andere' \\\n",
    "                                              or x == 'Not in the workforce / retired / other' else 3)))\n",
    "\n",
    "df.income = df.income.apply(lambda x: 0 if x == \"CHF 0 - CHF 30'000\" or x == \"USD 0 - USD 30'000\" \\\n",
    "                            else(1 if x == \"CHF 30'001 - CHF 50'000\" or x == \"USD 30'001 - USD 50'000\" \\\n",
    "                                 else(2 if x == \"CHF 50'001 - CHF 65'000\" or x == \"USD 50'000 - USD 65'000\" \\\n",
    "                                      else(3 if x == \"CHF 65'001 - CHF CHF 80'000\" \\\n",
    "                                           or x == \"USD 65'001 - USD 80'000\" \\\n",
    "                                           else(4 if x == \"CHF 80'001 - CHF 100'000\" or \\\n",
    "                                                x == \"USD 80'001 - USD 100'000\" else 5)))))\n",
    "\n",
    "df.invested = df.invested.apply(lambda x: 0 if x == 'Nein' or x == 'No' else 1)\n",
    "\n",
    "df.inv_pref = df.inv_pref.apply(lambda x: 0 if x == \"Weiss nciht\" or x == \"Do not know\" \\\n",
    "                                        else(1 if x == \"ETF\" or x == \"ETFs\" \\\n",
    "                                             else(2 if x == \"Einzeltitel wie Aktien, Obligationen oder ein Mix (ohne Anlagefonds)\" \\\n",
    "                                                  or x == \"single securities such as stocks, bonds or a mix (excluding funds)\" \\\n",
    "                                                  else(3 if x == \"Anlagefonds\" or x == \"investment funds\" else 4))))\n",
    "\n",
    "df.fink1 = df.fink1.apply(lambda x: 1 if x == 2 else 0)\n",
    "df.fink2 = df.fink2.apply(lambda x: 1 if x == 'Fahrrad CHF 980' or x == 'Bicycle USD 980' else 0)\n",
    "df.fink3 = df.fink3.apply(lambda x: 1 if x == 102 or x == 2 else 0)\n",
    "df.fink4 = df.fink4.apply(lambda x: 1 if x == 'Ja' or x == 'Yes' else 0)\n",
    "df.fink5 = df.fink5.apply(lambda x: 1 if x == 'Ja' or x ==  'Yes' else 0)\n",
    "df.fink6 = df.fink6.apply(lambda x: 1 if x == 'Ja' or x == 'Yes' else 0)\n",
    "df.fink7 = df.fink7.apply(lambda x: 1 if x == 'Merh asl CHF 110' or x == 'More than USD 110' else 0)"
   ]
  },
  {
   "cell_type": "code",
   "execution_count": 7,
   "metadata": {},
   "outputs": [
    {
     "data": {
      "text/html": [
       "<div>\n",
       "<style scoped>\n",
       "    .dataframe tbody tr th:only-of-type {\n",
       "        vertical-align: middle;\n",
       "    }\n",
       "\n",
       "    .dataframe tbody tr th {\n",
       "        vertical-align: top;\n",
       "    }\n",
       "\n",
       "    .dataframe thead th {\n",
       "        text-align: right;\n",
       "    }\n",
       "</style>\n",
       "<table border=\"1\" class=\"dataframe\">\n",
       "  <thead>\n",
       "    <tr style=\"text-align: right;\">\n",
       "      <th></th>\n",
       "      <th>age</th>\n",
       "      <th>gender</th>\n",
       "      <th>education</th>\n",
       "      <th>employment</th>\n",
       "      <th>income</th>\n",
       "      <th>invested</th>\n",
       "      <th>inv_pref</th>\n",
       "      <th>att1</th>\n",
       "      <th>att2</th>\n",
       "      <th>att3</th>\n",
       "      <th>fink1</th>\n",
       "      <th>fink2</th>\n",
       "      <th>fink3</th>\n",
       "      <th>fink4</th>\n",
       "      <th>fink5</th>\n",
       "      <th>fink6</th>\n",
       "      <th>fink7</th>\n",
       "    </tr>\n",
       "  </thead>\n",
       "  <tbody>\n",
       "    <tr>\n",
       "      <th>0</th>\n",
       "      <td>1</td>\n",
       "      <td>0</td>\n",
       "      <td>2</td>\n",
       "      <td>3</td>\n",
       "      <td>1</td>\n",
       "      <td>1</td>\n",
       "      <td>1</td>\n",
       "      <td>3</td>\n",
       "      <td>2</td>\n",
       "      <td>3.0</td>\n",
       "      <td>0</td>\n",
       "      <td>1</td>\n",
       "      <td>1</td>\n",
       "      <td>1</td>\n",
       "      <td>1</td>\n",
       "      <td>1</td>\n",
       "      <td>0</td>\n",
       "    </tr>\n",
       "    <tr>\n",
       "      <th>1</th>\n",
       "      <td>0</td>\n",
       "      <td>1</td>\n",
       "      <td>2</td>\n",
       "      <td>3</td>\n",
       "      <td>0</td>\n",
       "      <td>0</td>\n",
       "      <td>4</td>\n",
       "      <td>3</td>\n",
       "      <td>2</td>\n",
       "      <td>3.0</td>\n",
       "      <td>0</td>\n",
       "      <td>0</td>\n",
       "      <td>1</td>\n",
       "      <td>1</td>\n",
       "      <td>1</td>\n",
       "      <td>1</td>\n",
       "      <td>0</td>\n",
       "    </tr>\n",
       "    <tr>\n",
       "      <th>2</th>\n",
       "      <td>0</td>\n",
       "      <td>0</td>\n",
       "      <td>3</td>\n",
       "      <td>3</td>\n",
       "      <td>0</td>\n",
       "      <td>1</td>\n",
       "      <td>1</td>\n",
       "      <td>4</td>\n",
       "      <td>4</td>\n",
       "      <td>3.0</td>\n",
       "      <td>0</td>\n",
       "      <td>1</td>\n",
       "      <td>1</td>\n",
       "      <td>1</td>\n",
       "      <td>1</td>\n",
       "      <td>1</td>\n",
       "      <td>0</td>\n",
       "    </tr>\n",
       "    <tr>\n",
       "      <th>3</th>\n",
       "      <td>1</td>\n",
       "      <td>0</td>\n",
       "      <td>1</td>\n",
       "      <td>1</td>\n",
       "      <td>5</td>\n",
       "      <td>1</td>\n",
       "      <td>2</td>\n",
       "      <td>2</td>\n",
       "      <td>3</td>\n",
       "      <td>3.0</td>\n",
       "      <td>0</td>\n",
       "      <td>1</td>\n",
       "      <td>1</td>\n",
       "      <td>1</td>\n",
       "      <td>1</td>\n",
       "      <td>1</td>\n",
       "      <td>0</td>\n",
       "    </tr>\n",
       "    <tr>\n",
       "      <th>4</th>\n",
       "      <td>1</td>\n",
       "      <td>0</td>\n",
       "      <td>2</td>\n",
       "      <td>3</td>\n",
       "      <td>0</td>\n",
       "      <td>1</td>\n",
       "      <td>2</td>\n",
       "      <td>2</td>\n",
       "      <td>3</td>\n",
       "      <td>4.0</td>\n",
       "      <td>1</td>\n",
       "      <td>1</td>\n",
       "      <td>1</td>\n",
       "      <td>1</td>\n",
       "      <td>0</td>\n",
       "      <td>1</td>\n",
       "      <td>0</td>\n",
       "    </tr>\n",
       "    <tr>\n",
       "      <th>...</th>\n",
       "      <td>...</td>\n",
       "      <td>...</td>\n",
       "      <td>...</td>\n",
       "      <td>...</td>\n",
       "      <td>...</td>\n",
       "      <td>...</td>\n",
       "      <td>...</td>\n",
       "      <td>...</td>\n",
       "      <td>...</td>\n",
       "      <td>...</td>\n",
       "      <td>...</td>\n",
       "      <td>...</td>\n",
       "      <td>...</td>\n",
       "      <td>...</td>\n",
       "      <td>...</td>\n",
       "      <td>...</td>\n",
       "      <td>...</td>\n",
       "    </tr>\n",
       "    <tr>\n",
       "      <th>108</th>\n",
       "      <td>1</td>\n",
       "      <td>1</td>\n",
       "      <td>2</td>\n",
       "      <td>1</td>\n",
       "      <td>2</td>\n",
       "      <td>1</td>\n",
       "      <td>2</td>\n",
       "      <td>3</td>\n",
       "      <td>3</td>\n",
       "      <td>3.0</td>\n",
       "      <td>0</td>\n",
       "      <td>0</td>\n",
       "      <td>0</td>\n",
       "      <td>1</td>\n",
       "      <td>0</td>\n",
       "      <td>0</td>\n",
       "      <td>0</td>\n",
       "    </tr>\n",
       "    <tr>\n",
       "      <th>109</th>\n",
       "      <td>1</td>\n",
       "      <td>1</td>\n",
       "      <td>2</td>\n",
       "      <td>0</td>\n",
       "      <td>0</td>\n",
       "      <td>1</td>\n",
       "      <td>3</td>\n",
       "      <td>4</td>\n",
       "      <td>3</td>\n",
       "      <td>1.0</td>\n",
       "      <td>0</td>\n",
       "      <td>1</td>\n",
       "      <td>1</td>\n",
       "      <td>1</td>\n",
       "      <td>1</td>\n",
       "      <td>1</td>\n",
       "      <td>1</td>\n",
       "    </tr>\n",
       "    <tr>\n",
       "      <th>110</th>\n",
       "      <td>1</td>\n",
       "      <td>1</td>\n",
       "      <td>1</td>\n",
       "      <td>1</td>\n",
       "      <td>1</td>\n",
       "      <td>1</td>\n",
       "      <td>2</td>\n",
       "      <td>2</td>\n",
       "      <td>2</td>\n",
       "      <td>NaN</td>\n",
       "      <td>0</td>\n",
       "      <td>0</td>\n",
       "      <td>0</td>\n",
       "      <td>1</td>\n",
       "      <td>1</td>\n",
       "      <td>0</td>\n",
       "      <td>0</td>\n",
       "    </tr>\n",
       "    <tr>\n",
       "      <th>111</th>\n",
       "      <td>4</td>\n",
       "      <td>1</td>\n",
       "      <td>0</td>\n",
       "      <td>2</td>\n",
       "      <td>0</td>\n",
       "      <td>0</td>\n",
       "      <td>4</td>\n",
       "      <td>1</td>\n",
       "      <td>4</td>\n",
       "      <td>4.0</td>\n",
       "      <td>0</td>\n",
       "      <td>0</td>\n",
       "      <td>1</td>\n",
       "      <td>1</td>\n",
       "      <td>1</td>\n",
       "      <td>1</td>\n",
       "      <td>0</td>\n",
       "    </tr>\n",
       "    <tr>\n",
       "      <th>112</th>\n",
       "      <td>2</td>\n",
       "      <td>0</td>\n",
       "      <td>2</td>\n",
       "      <td>0</td>\n",
       "      <td>2</td>\n",
       "      <td>1</td>\n",
       "      <td>2</td>\n",
       "      <td>4</td>\n",
       "      <td>4</td>\n",
       "      <td>4.0</td>\n",
       "      <td>0</td>\n",
       "      <td>1</td>\n",
       "      <td>1</td>\n",
       "      <td>0</td>\n",
       "      <td>0</td>\n",
       "      <td>1</td>\n",
       "      <td>1</td>\n",
       "    </tr>\n",
       "  </tbody>\n",
       "</table>\n",
       "<p>113 rows × 17 columns</p>\n",
       "</div>"
      ],
      "text/plain": [
       "     age  gender  education  employment  income  invested  inv_pref  att1  \\\n",
       "0      1       0          2           3       1         1         1     3   \n",
       "1      0       1          2           3       0         0         4     3   \n",
       "2      0       0          3           3       0         1         1     4   \n",
       "3      1       0          1           1       5         1         2     2   \n",
       "4      1       0          2           3       0         1         2     2   \n",
       "..   ...     ...        ...         ...     ...       ...       ...   ...   \n",
       "108    1       1          2           1       2         1         2     3   \n",
       "109    1       1          2           0       0         1         3     4   \n",
       "110    1       1          1           1       1         1         2     2   \n",
       "111    4       1          0           2       0         0         4     1   \n",
       "112    2       0          2           0       2         1         2     4   \n",
       "\n",
       "     att2  att3  fink1  fink2  fink3  fink4  fink5  fink6  fink7  \n",
       "0       2   3.0      0      1      1      1      1      1      0  \n",
       "1       2   3.0      0      0      1      1      1      1      0  \n",
       "2       4   3.0      0      1      1      1      1      1      0  \n",
       "3       3   3.0      0      1      1      1      1      1      0  \n",
       "4       3   4.0      1      1      1      1      0      1      0  \n",
       "..    ...   ...    ...    ...    ...    ...    ...    ...    ...  \n",
       "108     3   3.0      0      0      0      1      0      0      0  \n",
       "109     3   1.0      0      1      1      1      1      1      1  \n",
       "110     2   NaN      0      0      0      1      1      0      0  \n",
       "111     4   4.0      0      0      1      1      1      1      0  \n",
       "112     4   4.0      0      1      1      0      0      1      1  \n",
       "\n",
       "[113 rows x 17 columns]"
      ]
     },
     "execution_count": 7,
     "metadata": {},
     "output_type": "execute_result"
    }
   ],
   "source": [
    "df"
   ]
  },
  {
   "cell_type": "code",
   "execution_count": 8,
   "metadata": {
    "scrolled": true
   },
   "outputs": [
    {
     "data": {
      "text/plain": [
       "age           0\n",
       "gender        0\n",
       "education     0\n",
       "employment    0\n",
       "income        0\n",
       "invested      0\n",
       "inv_pref      0\n",
       "att1          0\n",
       "att2          0\n",
       "att3          1\n",
       "fink1         0\n",
       "fink2         0\n",
       "fink3         0\n",
       "fink4         0\n",
       "fink5         0\n",
       "fink6         0\n",
       "fink7         0\n",
       "dtype: int64"
      ]
     },
     "execution_count": 8,
     "metadata": {},
     "output_type": "execute_result"
    }
   ],
   "source": [
    "df.isna().sum()"
   ]
  },
  {
   "cell_type": "code",
   "execution_count": 9,
   "metadata": {},
   "outputs": [
    {
     "data": {
      "text/plain": [
       "(113, 17)"
      ]
     },
     "execution_count": 9,
     "metadata": {},
     "output_type": "execute_result"
    }
   ],
   "source": [
    "df.shape"
   ]
  },
  {
   "cell_type": "code",
   "execution_count": 10,
   "metadata": {},
   "outputs": [],
   "source": [
    "df.dropna(inplace=True)\n",
    "df.reset_index(drop=True, inplace=True)\n",
    "df.att3 = df.att3.astype(int)"
   ]
  },
  {
   "cell_type": "code",
   "execution_count": 11,
   "metadata": {},
   "outputs": [
    {
     "data": {
      "text/html": [
       "<div>\n",
       "<style scoped>\n",
       "    .dataframe tbody tr th:only-of-type {\n",
       "        vertical-align: middle;\n",
       "    }\n",
       "\n",
       "    .dataframe tbody tr th {\n",
       "        vertical-align: top;\n",
       "    }\n",
       "\n",
       "    .dataframe thead th {\n",
       "        text-align: right;\n",
       "    }\n",
       "</style>\n",
       "<table border=\"1\" class=\"dataframe\">\n",
       "  <thead>\n",
       "    <tr style=\"text-align: right;\">\n",
       "      <th></th>\n",
       "      <th>age</th>\n",
       "      <th>gender</th>\n",
       "      <th>education</th>\n",
       "      <th>employment</th>\n",
       "      <th>income</th>\n",
       "      <th>invested</th>\n",
       "      <th>inv_pref</th>\n",
       "      <th>att1</th>\n",
       "      <th>att2</th>\n",
       "      <th>att3</th>\n",
       "      <th>fink1</th>\n",
       "      <th>fink2</th>\n",
       "      <th>fink3</th>\n",
       "      <th>fink4</th>\n",
       "      <th>fink5</th>\n",
       "      <th>fink6</th>\n",
       "      <th>fink7</th>\n",
       "    </tr>\n",
       "  </thead>\n",
       "  <tbody>\n",
       "    <tr>\n",
       "      <th>0</th>\n",
       "      <td>1</td>\n",
       "      <td>0</td>\n",
       "      <td>2</td>\n",
       "      <td>3</td>\n",
       "      <td>1</td>\n",
       "      <td>1</td>\n",
       "      <td>1</td>\n",
       "      <td>3</td>\n",
       "      <td>2</td>\n",
       "      <td>3</td>\n",
       "      <td>0</td>\n",
       "      <td>1</td>\n",
       "      <td>1</td>\n",
       "      <td>1</td>\n",
       "      <td>1</td>\n",
       "      <td>1</td>\n",
       "      <td>0</td>\n",
       "    </tr>\n",
       "    <tr>\n",
       "      <th>1</th>\n",
       "      <td>0</td>\n",
       "      <td>1</td>\n",
       "      <td>2</td>\n",
       "      <td>3</td>\n",
       "      <td>0</td>\n",
       "      <td>0</td>\n",
       "      <td>4</td>\n",
       "      <td>3</td>\n",
       "      <td>2</td>\n",
       "      <td>3</td>\n",
       "      <td>0</td>\n",
       "      <td>0</td>\n",
       "      <td>1</td>\n",
       "      <td>1</td>\n",
       "      <td>1</td>\n",
       "      <td>1</td>\n",
       "      <td>0</td>\n",
       "    </tr>\n",
       "    <tr>\n",
       "      <th>2</th>\n",
       "      <td>0</td>\n",
       "      <td>0</td>\n",
       "      <td>3</td>\n",
       "      <td>3</td>\n",
       "      <td>0</td>\n",
       "      <td>1</td>\n",
       "      <td>1</td>\n",
       "      <td>4</td>\n",
       "      <td>4</td>\n",
       "      <td>3</td>\n",
       "      <td>0</td>\n",
       "      <td>1</td>\n",
       "      <td>1</td>\n",
       "      <td>1</td>\n",
       "      <td>1</td>\n",
       "      <td>1</td>\n",
       "      <td>0</td>\n",
       "    </tr>\n",
       "    <tr>\n",
       "      <th>3</th>\n",
       "      <td>1</td>\n",
       "      <td>0</td>\n",
       "      <td>1</td>\n",
       "      <td>1</td>\n",
       "      <td>5</td>\n",
       "      <td>1</td>\n",
       "      <td>2</td>\n",
       "      <td>2</td>\n",
       "      <td>3</td>\n",
       "      <td>3</td>\n",
       "      <td>0</td>\n",
       "      <td>1</td>\n",
       "      <td>1</td>\n",
       "      <td>1</td>\n",
       "      <td>1</td>\n",
       "      <td>1</td>\n",
       "      <td>0</td>\n",
       "    </tr>\n",
       "    <tr>\n",
       "      <th>4</th>\n",
       "      <td>1</td>\n",
       "      <td>0</td>\n",
       "      <td>2</td>\n",
       "      <td>3</td>\n",
       "      <td>0</td>\n",
       "      <td>1</td>\n",
       "      <td>2</td>\n",
       "      <td>2</td>\n",
       "      <td>3</td>\n",
       "      <td>4</td>\n",
       "      <td>1</td>\n",
       "      <td>1</td>\n",
       "      <td>1</td>\n",
       "      <td>1</td>\n",
       "      <td>0</td>\n",
       "      <td>1</td>\n",
       "      <td>0</td>\n",
       "    </tr>\n",
       "    <tr>\n",
       "      <th>...</th>\n",
       "      <td>...</td>\n",
       "      <td>...</td>\n",
       "      <td>...</td>\n",
       "      <td>...</td>\n",
       "      <td>...</td>\n",
       "      <td>...</td>\n",
       "      <td>...</td>\n",
       "      <td>...</td>\n",
       "      <td>...</td>\n",
       "      <td>...</td>\n",
       "      <td>...</td>\n",
       "      <td>...</td>\n",
       "      <td>...</td>\n",
       "      <td>...</td>\n",
       "      <td>...</td>\n",
       "      <td>...</td>\n",
       "      <td>...</td>\n",
       "    </tr>\n",
       "    <tr>\n",
       "      <th>107</th>\n",
       "      <td>1</td>\n",
       "      <td>0</td>\n",
       "      <td>2</td>\n",
       "      <td>0</td>\n",
       "      <td>0</td>\n",
       "      <td>1</td>\n",
       "      <td>2</td>\n",
       "      <td>4</td>\n",
       "      <td>4</td>\n",
       "      <td>3</td>\n",
       "      <td>0</td>\n",
       "      <td>1</td>\n",
       "      <td>1</td>\n",
       "      <td>1</td>\n",
       "      <td>1</td>\n",
       "      <td>1</td>\n",
       "      <td>0</td>\n",
       "    </tr>\n",
       "    <tr>\n",
       "      <th>108</th>\n",
       "      <td>1</td>\n",
       "      <td>1</td>\n",
       "      <td>2</td>\n",
       "      <td>1</td>\n",
       "      <td>2</td>\n",
       "      <td>1</td>\n",
       "      <td>2</td>\n",
       "      <td>3</td>\n",
       "      <td>3</td>\n",
       "      <td>3</td>\n",
       "      <td>0</td>\n",
       "      <td>0</td>\n",
       "      <td>0</td>\n",
       "      <td>1</td>\n",
       "      <td>0</td>\n",
       "      <td>0</td>\n",
       "      <td>0</td>\n",
       "    </tr>\n",
       "    <tr>\n",
       "      <th>109</th>\n",
       "      <td>1</td>\n",
       "      <td>1</td>\n",
       "      <td>2</td>\n",
       "      <td>0</td>\n",
       "      <td>0</td>\n",
       "      <td>1</td>\n",
       "      <td>3</td>\n",
       "      <td>4</td>\n",
       "      <td>3</td>\n",
       "      <td>1</td>\n",
       "      <td>0</td>\n",
       "      <td>1</td>\n",
       "      <td>1</td>\n",
       "      <td>1</td>\n",
       "      <td>1</td>\n",
       "      <td>1</td>\n",
       "      <td>1</td>\n",
       "    </tr>\n",
       "    <tr>\n",
       "      <th>110</th>\n",
       "      <td>4</td>\n",
       "      <td>1</td>\n",
       "      <td>0</td>\n",
       "      <td>2</td>\n",
       "      <td>0</td>\n",
       "      <td>0</td>\n",
       "      <td>4</td>\n",
       "      <td>1</td>\n",
       "      <td>4</td>\n",
       "      <td>4</td>\n",
       "      <td>0</td>\n",
       "      <td>0</td>\n",
       "      <td>1</td>\n",
       "      <td>1</td>\n",
       "      <td>1</td>\n",
       "      <td>1</td>\n",
       "      <td>0</td>\n",
       "    </tr>\n",
       "    <tr>\n",
       "      <th>111</th>\n",
       "      <td>2</td>\n",
       "      <td>0</td>\n",
       "      <td>2</td>\n",
       "      <td>0</td>\n",
       "      <td>2</td>\n",
       "      <td>1</td>\n",
       "      <td>2</td>\n",
       "      <td>4</td>\n",
       "      <td>4</td>\n",
       "      <td>4</td>\n",
       "      <td>0</td>\n",
       "      <td>1</td>\n",
       "      <td>1</td>\n",
       "      <td>0</td>\n",
       "      <td>0</td>\n",
       "      <td>1</td>\n",
       "      <td>1</td>\n",
       "    </tr>\n",
       "  </tbody>\n",
       "</table>\n",
       "<p>112 rows × 17 columns</p>\n",
       "</div>"
      ],
      "text/plain": [
       "     age  gender  education  employment  income  invested  inv_pref  att1  \\\n",
       "0      1       0          2           3       1         1         1     3   \n",
       "1      0       1          2           3       0         0         4     3   \n",
       "2      0       0          3           3       0         1         1     4   \n",
       "3      1       0          1           1       5         1         2     2   \n",
       "4      1       0          2           3       0         1         2     2   \n",
       "..   ...     ...        ...         ...     ...       ...       ...   ...   \n",
       "107    1       0          2           0       0         1         2     4   \n",
       "108    1       1          2           1       2         1         2     3   \n",
       "109    1       1          2           0       0         1         3     4   \n",
       "110    4       1          0           2       0         0         4     1   \n",
       "111    2       0          2           0       2         1         2     4   \n",
       "\n",
       "     att2  att3  fink1  fink2  fink3  fink4  fink5  fink6  fink7  \n",
       "0       2     3      0      1      1      1      1      1      0  \n",
       "1       2     3      0      0      1      1      1      1      0  \n",
       "2       4     3      0      1      1      1      1      1      0  \n",
       "3       3     3      0      1      1      1      1      1      0  \n",
       "4       3     4      1      1      1      1      0      1      0  \n",
       "..    ...   ...    ...    ...    ...    ...    ...    ...    ...  \n",
       "107     4     3      0      1      1      1      1      1      0  \n",
       "108     3     3      0      0      0      1      0      0      0  \n",
       "109     3     1      0      1      1      1      1      1      1  \n",
       "110     4     4      0      0      1      1      1      1      0  \n",
       "111     4     4      0      1      1      0      0      1      1  \n",
       "\n",
       "[112 rows x 17 columns]"
      ]
     },
     "execution_count": 11,
     "metadata": {},
     "output_type": "execute_result"
    }
   ],
   "source": [
    "# cleaned dataset\n",
    "df"
   ]
  },
  {
   "cell_type": "code",
   "execution_count": 12,
   "metadata": {},
   "outputs": [],
   "source": [
    "X = df\n",
    "X = X.drop(columns=['invested','inv_pref'])\n",
    "X['fink']= X[['fink1','fink2','fink3','fink4','fink5','fink6','fink7']].sum(axis=1)\n",
    "X['att'] = X[['att1','att2','att3']].sum(axis=1)\n",
    "Y = df[['invested','inv_pref']]"
   ]
  },
  {
   "cell_type": "code",
   "execution_count": 13,
   "metadata": {},
   "outputs": [],
   "source": [
    "genvars = X.drop(columns=['fink','att','att1','att2','att3','fink1','fink2','fink3','fink4','fink5','fink6','fink7'])"
   ]
  },
  {
   "cell_type": "code",
   "execution_count": 14,
   "metadata": {},
   "outputs": [
    {
     "data": {
      "text/html": [
       "<div>\n",
       "<style scoped>\n",
       "    .dataframe tbody tr th:only-of-type {\n",
       "        vertical-align: middle;\n",
       "    }\n",
       "\n",
       "    .dataframe tbody tr th {\n",
       "        vertical-align: top;\n",
       "    }\n",
       "\n",
       "    .dataframe thead th {\n",
       "        text-align: right;\n",
       "    }\n",
       "</style>\n",
       "<table border=\"1\" class=\"dataframe\">\n",
       "  <thead>\n",
       "    <tr style=\"text-align: right;\">\n",
       "      <th></th>\n",
       "      <th>age</th>\n",
       "      <th>gender</th>\n",
       "      <th>education</th>\n",
       "      <th>employment</th>\n",
       "      <th>income</th>\n",
       "    </tr>\n",
       "  </thead>\n",
       "  <tbody>\n",
       "    <tr>\n",
       "      <th>0</th>\n",
       "      <td>1</td>\n",
       "      <td>0</td>\n",
       "      <td>2</td>\n",
       "      <td>3</td>\n",
       "      <td>1</td>\n",
       "    </tr>\n",
       "    <tr>\n",
       "      <th>1</th>\n",
       "      <td>0</td>\n",
       "      <td>1</td>\n",
       "      <td>2</td>\n",
       "      <td>3</td>\n",
       "      <td>0</td>\n",
       "    </tr>\n",
       "    <tr>\n",
       "      <th>2</th>\n",
       "      <td>0</td>\n",
       "      <td>0</td>\n",
       "      <td>3</td>\n",
       "      <td>3</td>\n",
       "      <td>0</td>\n",
       "    </tr>\n",
       "  </tbody>\n",
       "</table>\n",
       "</div>"
      ],
      "text/plain": [
       "   age  gender  education  employment  income\n",
       "0    1       0          2           3       1\n",
       "1    0       1          2           3       0\n",
       "2    0       0          3           3       0"
      ]
     },
     "execution_count": 14,
     "metadata": {},
     "output_type": "execute_result"
    }
   ],
   "source": [
    "genvars.head(3)"
   ]
  },
  {
   "cell_type": "code",
   "execution_count": 15,
   "metadata": {},
   "outputs": [],
   "source": [
    "mu_age = np.array(genvars.age.value_counts(normalize=True))\n",
    "mu_gender = np.array(genvars.gender.value_counts(normalize=True))\n",
    "mu_education = np.array(genvars.education.value_counts(normalize=True))\n",
    "mu_employment = np.array(genvars.employment.value_counts(normalize=True))\n",
    "mu_income = np.array(genvars.income.value_counts(normalize=True))\n",
    "#mu_inv = np.array(genvars.invested.value_counts(normalize=True))\n",
    "#mu_inv_pref = np.array(genvars.inv_pref.value_counts(normalize=True))\n",
    "\n",
    "mu = {}\n",
    "\n",
    "mu = {'age':mu_age, 'gender':mu_gender, 'education':mu_education, 'employment':mu_employment, 'income':mu_income}"
   ]
  },
  {
   "cell_type": "code",
   "execution_count": 16,
   "metadata": {},
   "outputs": [
    {
     "data": {
      "text/plain": [
       "{'age': array([0.49107143, 0.28571429, 0.125     , 0.07142857, 0.02678571]),\n",
       " 'gender': array([0.53571429, 0.46428571]),\n",
       " 'education': array([0.41071429, 0.36607143, 0.16071429, 0.0625    ]),\n",
       " 'employment': array([0.48214286, 0.25892857, 0.20535714, 0.05357143]),\n",
       " 'income': array([0.46428571, 0.19642857, 0.10714286, 0.08928571, 0.08035714,\n",
       "        0.0625    ])}"
      ]
     },
     "execution_count": 16,
     "metadata": {},
     "output_type": "execute_result"
    }
   ],
   "source": [
    "mu"
   ]
  },
  {
   "cell_type": "code",
   "execution_count": 17,
   "metadata": {},
   "outputs": [],
   "source": [
    "# age\n",
    "age_alpha0 = 0.90\n",
    "age_beta1 = 0.80\n",
    "age_beta2 = 0.60\n",
    "age_beta3 = 0.40\n",
    "age_beta4 = 0.20\n",
    "\n",
    "aff_age = np.array([[age_alpha0,age_beta1,age_beta2,age_beta3,age_beta4],\n",
    "                    [age_beta1,age_alpha0,age_beta1,age_beta2,age_beta3],\n",
    "                    [age_beta2,age_beta1,age_alpha0,age_beta1,age_beta2],\n",
    "                    [age_beta3,age_beta2,age_beta1,age_alpha0,age_beta1],\n",
    "                    [age_beta4,age_beta3,age_beta2,age_beta1,age_alpha0]])\n",
    "\n",
    "# education\n",
    "edu_alpha0 = 0.85\n",
    "edu_beta1 = 0.70\n",
    "edu_beta2 = 0.55\n",
    "edu_beta3 = 0.40\n",
    "\n",
    "aff_edu = np.array([[edu_alpha0,edu_beta1,edu_beta2,edu_beta3],\n",
    "                    [edu_beta1,edu_alpha0,edu_beta1,edu_beta2],\n",
    "                    [edu_beta2,edu_beta1,edu_alpha0,edu_beta1],\n",
    "                    [edu_beta3,edu_beta2,edu_beta1,edu_alpha0]])\n",
    "\n",
    "# employment\n",
    "emp_alpha0 = 0.90 # self\n",
    "emp_beta_wf = 0.75 # beta workforce / employed / unemployed vs student\n",
    "emp_beta_ret = 0.70 # beta retired vs workforce\n",
    "emp_beta_sr = 0.20 # gen gap student / retired\n",
    "\n",
    "aff_emp = np.array([[emp_alpha0,emp_beta_wf,emp_beta_sr,emp_beta_wf],\n",
    "                    [emp_beta_wf,emp_alpha0,emp_beta_ret,emp_beta_wf],\n",
    "                    [emp_beta_sr,emp_beta_ret,emp_alpha0,emp_beta_ret],\n",
    "                    [emp_beta_wf,emp_beta_wf,emp_beta_ret,emp_alpha0]])\n",
    "\n",
    "# income\n",
    "inc_alpha0 = 0.85\n",
    "inc_beta1 = 0.70\n",
    "inc_beta2 = 0.60\n",
    "inc_beta3 = 0.50\n",
    "inc_beta4 = 0.40\n",
    "inc_beta5 = 0.25\n",
    "\n",
    "aff_inc = np.array([[inc_alpha0,inc_beta1,inc_beta2,inc_beta3,inc_beta4,inc_beta5],\n",
    "                    [inc_beta1,inc_alpha0,inc_beta1,inc_beta2,inc_beta3,inc_beta4],\n",
    "                    [inc_beta2,inc_beta1,inc_alpha0,inc_beta1,inc_beta2,inc_beta3],\n",
    "                    [inc_beta3,inc_beta2,inc_beta1,inc_alpha0,inc_beta1,inc_beta2],\n",
    "                    [inc_beta4,inc_beta3,inc_beta2,inc_beta2,inc_alpha0,inc_beta1],\n",
    "                    [inc_beta5,inc_beta4,inc_beta3,inc_beta2,inc_beta1,inc_alpha0]])\n",
    "\n",
    "# gender\n",
    "gend_alpha0 = 0.60\n",
    "gend_beta1 = 0.40\n",
    "\n",
    "aff_gend = np.array([[gend_alpha0,gend_beta1],\n",
    "                     [gend_beta1,gend_alpha0]])\n",
    "\n",
    "\n",
    "# invested\n",
    "\n",
    "inv_alpha0 = 0.95\n",
    "inv_beta1 = 0.50\n",
    "\n",
    "aff_inv = np.array([[inv_alpha0,inv_beta1],\n",
    "                    [inv_beta1,inv_alpha0]])\n",
    "\n",
    "# inv_pref\n",
    "inv_pref_alpha0 = 0.95 # same\n",
    "inv_pref_other = 0.80 # other class\n",
    "inv_pref_noninv = 0.50 # not invested\n",
    "inv_pref_notknow = 0.70 # not know with investment cats and not invested\n",
    "\n",
    "aff_inv_pref = np.array([[inv_pref_alpha0,inv_pref_noninv,inv_pref_noninv,inv_pref_noninv,inv_pref_notknow],\n",
    "                         [inv_pref_noninv,inv_pref_alpha0,inv_pref_other,inv_pref_other,inv_pref_notknow],\n",
    "                         [inv_pref_noninv,inv_pref_other,inv_pref_alpha0,inv_pref_other,inv_pref_notknow],\n",
    "                         [inv_pref_noninv,inv_pref_other,inv_pref_other,inv_pref_alpha0,inv_pref_notknow],\n",
    "                         [inv_pref_notknow,inv_pref_notknow,inv_pref_notknow,inv_pref_notknow,inv_pref_alpha0]])\n",
    "\n",
    "\n",
    "aff = {}\n",
    "aff = {0:aff_age, 1:aff_gend,2:aff_edu,3:aff_emp,4:aff_inc}"
   ]
  },
  {
   "cell_type": "code",
   "execution_count": 42,
   "metadata": {},
   "outputs": [],
   "source": [
    "x = genvars.to_numpy()\n",
    "x = x.astype(int)\n",
    "x = x.T\n",
    "\n",
    "P_u_v = np.empty((len(x.T),len(x.T)))\n",
    "prob_u_v = np.empty((len(x),1))\n",
    "u = np.empty((len(x),1))\n",
    "v = np.empty((len(x),1))\n",
    "\n",
    "# create probability for connection between u and v\n",
    "for i in range(len(x.T)):\n",
    "    u = x[:,i]\n",
    "\n",
    "    for k in range(len(x.T)):\n",
    "        v = x[:,k]\n",
    "\n",
    "        for j in range(len(x)):\n",
    "            aff_current = aff[j]\n",
    "            prob_u_v[j] = aff_current[u[j],v[j]]\n",
    "\n",
    "        P_u_v[i,k] = np.prod(prob_u_v)"
   ]
  },
  {
   "cell_type": "code",
   "execution_count": 45,
   "metadata": {},
   "outputs": [],
   "source": [
    "A = np.triu(P_u_v,1)\n",
    "\n",
    "for i in range(len(P_u_v)):\n",
    "    for j in range(len(P_u_v)):\n",
    "        if A[i,j] > np.random.rand():\n",
    "            A[i,j] = 1\n",
    "        else:\n",
    "            A[i,j] = 0\n"
   ]
  },
  {
   "cell_type": "code",
   "execution_count": 46,
   "metadata": {},
   "outputs": [],
   "source": [
    "A = A + A.T"
   ]
  },
  {
   "cell_type": "code",
   "execution_count": 47,
   "metadata": {},
   "outputs": [],
   "source": [
    "G = nx.from_numpy_matrix(A)"
   ]
  },
  {
   "cell_type": "code",
   "execution_count": 48,
   "metadata": {},
   "outputs": [
    {
     "data": {
      "text/plain": [
       "True"
      ]
     },
     "execution_count": 48,
     "metadata": {},
     "output_type": "execute_result"
    }
   ],
   "source": [
    "nx.is_connected(G)"
   ]
  },
  {
   "cell_type": "code",
   "execution_count": 49,
   "metadata": {},
   "outputs": [
    {
     "data": {
      "image/png": "[encoded data removed]",
      "text/plain": [
       "<Figure size 432x288 with 1 Axes>"
      ]
     },
     "metadata": {},
     "output_type": "display_data"
    }
   ],
   "source": [
    "nx.draw(G,node_size=20)"
   ]
  },
  {
   "cell_type": "code",
   "execution_count": 50,
   "metadata": {},
   "outputs": [],
   "source": [
    "features = pd.Series(Y.invested) # invested or inv_pref"
   ]
  },
  {
   "cell_type": "code",
   "execution_count": 51,
   "metadata": {},
   "outputs": [
    {
     "data": {
      "text/plain": [
       "array([1, 0])"
      ]
     },
     "execution_count": 51,
     "metadata": {},
     "output_type": "execute_result"
    }
   ],
   "source": [
    "features.unique()"
   ]
  },
  {
   "cell_type": "code",
   "execution_count": 52,
   "metadata": {},
   "outputs": [],
   "source": [
    "legend = features.to_dict()"
   ]
  },
  {
   "cell_type": "code",
   "execution_count": 53,
   "metadata": {},
   "outputs": [],
   "source": [
    "color_map = []\n",
    "for i in features.items():\n",
    "    if i[1] == 0:\n",
    "        color_map.append('red')\n",
    "    elif i[1] == 1:\n",
    "        color_map.append('blue')\n",
    "    elif i[1] == 2:\n",
    "        color_map.append('yellow')\n",
    "    elif i[1] == 3:\n",
    "        color_map.append('pink')\n",
    "    else:\n",
    "        color_map.append('purple')"
   ]
  },
  {
   "cell_type": "code",
   "execution_count": 54,
   "metadata": {},
   "outputs": [],
   "source": [
    "pos = nx.spring_layout(G)"
   ]
  },
  {
   "cell_type": "code",
   "execution_count": 55,
   "metadata": {},
   "outputs": [
    {
     "data": {
      "image/png": "[encoded data removed]",
      "text/plain": [
       "<Figure size 432x288 with 1 Axes>"
      ]
     },
     "metadata": {},
     "output_type": "display_data"
    }
   ],
   "source": [
    "nx.draw(G,pos,labels=features,node_size=20,node_color=color_map,with_labels=False)\n",
    "plt.show()"
   ]
  },
  {
   "cell_type": "code",
   "execution_count": 56,
   "metadata": {},
   "outputs": [],
   "source": [
    "import dgl\n",
    "import torch\n",
    "import torch.nn as nn\n",
    "import torch.nn.functional as F\n",
    "\n",
    "G_dgl = dgl.from_networkx(G)\n",
    "feat = X.drop(columns=['att1','att2','att3','fink1','fink2','fink3','fink4','fink5','fink6','fink7'])\n",
    "\n",
    "embedding = nn.Parameter(torch.tensor(feat.values,dtype=torch.float))\n",
    "\n",
    "# embed = nn.Embedding(102, 5)  # 34 nodes with embedding dim equal to 5\n",
    "G_dgl.ndata['feat'] =  embedding\n",
    "G_dgl.ndata['train_mask'] = torch.zeros(len(G_dgl.nodes()), dtype=torch.bool).bernoulli(0.4)\n",
    "G_dgl.ndata['label'] = torch.tensor(features)"
   ]
  },
  {
   "cell_type": "code",
   "execution_count": 57,
   "metadata": {},
   "outputs": [
    {
     "data": {
      "text/html": [
       "<div>\n",
       "<style scoped>\n",
       "    .dataframe tbody tr th:only-of-type {\n",
       "        vertical-align: middle;\n",
       "    }\n",
       "\n",
       "    .dataframe tbody tr th {\n",
       "        vertical-align: top;\n",
       "    }\n",
       "\n",
       "    .dataframe thead th {\n",
       "        text-align: right;\n",
       "    }\n",
       "</style>\n",
       "<table border=\"1\" class=\"dataframe\">\n",
       "  <thead>\n",
       "    <tr style=\"text-align: right;\">\n",
       "      <th></th>\n",
       "      <th>age</th>\n",
       "      <th>gender</th>\n",
       "      <th>education</th>\n",
       "      <th>employment</th>\n",
       "      <th>income</th>\n",
       "      <th>fink</th>\n",
       "      <th>att</th>\n",
       "    </tr>\n",
       "  </thead>\n",
       "  <tbody>\n",
       "    <tr>\n",
       "      <th>0</th>\n",
       "      <td>1</td>\n",
       "      <td>0</td>\n",
       "      <td>2</td>\n",
       "      <td>3</td>\n",
       "      <td>1</td>\n",
       "      <td>5</td>\n",
       "      <td>8</td>\n",
       "    </tr>\n",
       "    <tr>\n",
       "      <th>1</th>\n",
       "      <td>0</td>\n",
       "      <td>1</td>\n",
       "      <td>2</td>\n",
       "      <td>3</td>\n",
       "      <td>0</td>\n",
       "      <td>4</td>\n",
       "      <td>8</td>\n",
       "    </tr>\n",
       "    <tr>\n",
       "      <th>2</th>\n",
       "      <td>0</td>\n",
       "      <td>0</td>\n",
       "      <td>3</td>\n",
       "      <td>3</td>\n",
       "      <td>0</td>\n",
       "      <td>5</td>\n",
       "      <td>11</td>\n",
       "    </tr>\n",
       "    <tr>\n",
       "      <th>3</th>\n",
       "      <td>1</td>\n",
       "      <td>0</td>\n",
       "      <td>1</td>\n",
       "      <td>1</td>\n",
       "      <td>5</td>\n",
       "      <td>5</td>\n",
       "      <td>8</td>\n",
       "    </tr>\n",
       "    <tr>\n",
       "      <th>4</th>\n",
       "      <td>1</td>\n",
       "      <td>0</td>\n",
       "      <td>2</td>\n",
       "      <td>3</td>\n",
       "      <td>0</td>\n",
       "      <td>5</td>\n",
       "      <td>9</td>\n",
       "    </tr>\n",
       "    <tr>\n",
       "      <th>...</th>\n",
       "      <td>...</td>\n",
       "      <td>...</td>\n",
       "      <td>...</td>\n",
       "      <td>...</td>\n",
       "      <td>...</td>\n",
       "      <td>...</td>\n",
       "      <td>...</td>\n",
       "    </tr>\n",
       "    <tr>\n",
       "      <th>107</th>\n",
       "      <td>1</td>\n",
       "      <td>0</td>\n",
       "      <td>2</td>\n",
       "      <td>0</td>\n",
       "      <td>0</td>\n",
       "      <td>5</td>\n",
       "      <td>11</td>\n",
       "    </tr>\n",
       "    <tr>\n",
       "      <th>108</th>\n",
       "      <td>1</td>\n",
       "      <td>1</td>\n",
       "      <td>2</td>\n",
       "      <td>1</td>\n",
       "      <td>2</td>\n",
       "      <td>1</td>\n",
       "      <td>9</td>\n",
       "    </tr>\n",
       "    <tr>\n",
       "      <th>109</th>\n",
       "      <td>1</td>\n",
       "      <td>1</td>\n",
       "      <td>2</td>\n",
       "      <td>0</td>\n",
       "      <td>0</td>\n",
       "      <td>6</td>\n",
       "      <td>8</td>\n",
       "    </tr>\n",
       "    <tr>\n",
       "      <th>110</th>\n",
       "      <td>4</td>\n",
       "      <td>1</td>\n",
       "      <td>0</td>\n",
       "      <td>2</td>\n",
       "      <td>0</td>\n",
       "      <td>4</td>\n",
       "      <td>9</td>\n",
       "    </tr>\n",
       "    <tr>\n",
       "      <th>111</th>\n",
       "      <td>2</td>\n",
       "      <td>0</td>\n",
       "      <td>2</td>\n",
       "      <td>0</td>\n",
       "      <td>2</td>\n",
       "      <td>4</td>\n",
       "      <td>12</td>\n",
       "    </tr>\n",
       "  </tbody>\n",
       "</table>\n",
       "<p>112 rows × 7 columns</p>\n",
       "</div>"
      ],
      "text/plain": [
       "     age  gender  education  employment  income  fink  att\n",
       "0      1       0          2           3       1     5    8\n",
       "1      0       1          2           3       0     4    8\n",
       "2      0       0          3           3       0     5   11\n",
       "3      1       0          1           1       5     5    8\n",
       "4      1       0          2           3       0     5    9\n",
       "..   ...     ...        ...         ...     ...   ...  ...\n",
       "107    1       0          2           0       0     5   11\n",
       "108    1       1          2           1       2     1    9\n",
       "109    1       1          2           0       0     6    8\n",
       "110    4       1          0           2       0     4    9\n",
       "111    2       0          2           0       2     4   12\n",
       "\n",
       "[112 rows x 7 columns]"
      ]
     },
     "execution_count": 57,
     "metadata": {},
     "output_type": "execute_result"
    }
   ],
   "source": [
    "feat"
   ]
  },
  {
   "cell_type": "code",
   "execution_count": 58,
   "metadata": {},
   "outputs": [],
   "source": [
    "G_dgl.ndata['val_mask'] = torch.empty(len(G_dgl.nodes()))\n",
    "for i in range(len(G_dgl.ndata['train_mask'])):\n",
    "    if G_dgl.ndata['train_mask'][i] == True:\n",
    "        G_dgl.ndata['val_mask'][i] = False\n",
    "    else:\n",
    "        G_dgl.ndata['val_mask'][i] = True\n",
    "\n",
    "G_dgl.ndata['val_mask'] = G_dgl.ndata['val_mask'].type(torch.bool)"
   ]
  },
  {
   "cell_type": "code",
   "execution_count": 59,
   "metadata": {},
   "outputs": [],
   "source": [
    "# Contruct a two-layer GNN model\n",
    "import dgl.nn as dglnn\n",
    "import torch.nn as nn\n",
    "import torch.nn.functional as F\n",
    "class SAGE(nn.Module):\n",
    "    def __init__(self, in_feats, hid_feats, out_feats):\n",
    "        super().__init__()\n",
    "        self.conv1 = dglnn.SAGEConv(\n",
    "            in_feats=in_feats, out_feats=hid_feats, aggregator_type='mean')\n",
    "        self.conv2 = dglnn.SAGEConv(\n",
    "            in_feats=hid_feats, out_feats=out_feats, aggregator_type='mean')\n",
    "\n",
    "    def forward(self, graph, inputs):\n",
    "        # inputs are features of nodes\n",
    "        h = self.conv1(graph, inputs)\n",
    "        #h = F.normalize(h, p=2, dim=1)\n",
    "        h = F.relu(h)\n",
    "        h = self.conv2(graph, h)\n",
    "        #h = F.normalize(h, p=2, dim=1)\n",
    "        #h = F.softmax(h,dim=1)\n",
    "        return h"
   ]
  },
  {
   "cell_type": "code",
   "execution_count": 60,
   "metadata": {},
   "outputs": [],
   "source": [
    "def evaluate(model, graph, features, labels, mask):\n",
    "    model.eval()\n",
    "    with torch.no_grad():\n",
    "        logits = model(graph, features)\n",
    "        logits = logits[mask]\n",
    "        labels = labels[mask]\n",
    "        _, indices = torch.max(logits, dim=1)\n",
    "        correct = torch.sum(indices == labels)\n",
    "        return correct.item() * 1.0 / len(labels)"
   ]
  },
  {
   "cell_type": "code",
   "execution_count": 61,
   "metadata": {},
   "outputs": [],
   "source": [
    "node_features = G_dgl.ndata['feat']\n",
    "node_labels = G_dgl.ndata['label']\n",
    "train_mask = G_dgl.ndata['train_mask']\n",
    "valid_mask = G_dgl.ndata['val_mask']\n",
    "n_features = node_features.shape[1]\n",
    "n_labels = int(node_labels.max().item() + 1)"
   ]
  },
  {
   "cell_type": "code",
   "execution_count": 62,
   "metadata": {
    "tags": [
     "outputPrepend"
    ]
   },
   "outputs": [
    {
     "name": "stdout",
     "output_type": "stream",
     "text": [
      "Epoch: 0, train loss: 2.4570, validation loss: 2.6742, training accuracy: 0.3182, validation accuracy: 0.2647, Time: 0.0094\n",
      "Epoch: 10, train loss: 1.0112, validation loss: 0.7854, training accuracy: 0.6818, validation accuracy: 0.7353, Time: 0.0092\n",
      "Epoch: 20, train loss: 0.6938, validation loss: 0.6947, training accuracy: 0.5682, validation accuracy: 0.6029, Time: 0.0090\n",
      "Epoch: 30, train loss: 0.6034, validation loss: 0.5402, training accuracy: 0.6818, validation accuracy: 0.7500, Time: 0.0089\n",
      "Epoch: 40, train loss: 0.5552, validation loss: 0.5475, training accuracy: 0.7500, validation accuracy: 0.7059, Time: 0.0087\n",
      "Epoch: 50, train loss: 0.5275, validation loss: 0.5160, training accuracy: 0.7955, validation accuracy: 0.7794, Time: 0.0081\n",
      "Epoch: 60, train loss: 0.5028, validation loss: 0.5250, training accuracy: 0.7727, validation accuracy: 0.7647, Time: 0.0078\n",
      "Epoch: 70, train loss: 0.4821, validation loss: 0.5149, training accuracy: 0.8182, validation accuracy: 0.7794, Time: 0.0078\n",
      "Epoch: 80, train loss: 0.4657, validation loss: 0.5215, training accuracy: 0.8182, validation accuracy: 0.7647, Time: 0.0075\n",
      "Epoch: 90, train loss: 0.4521, validation loss: 0.5212, training accuracy: 0.8182, validation accuracy: 0.7941, Time: 0.0073\n",
      "Epoch: 100, train loss: 0.4399, validation loss: 0.5219, training accuracy: 0.8182, validation accuracy: 0.7941, Time: 0.0071\n",
      "Epoch: 110, train loss: 0.4284, validation loss: 0.5247, training accuracy: 0.8182, validation accuracy: 0.7941, Time: 0.0073\n",
      "Epoch: 120, train loss: 0.4169, validation loss: 0.5274, training accuracy: 0.8636, validation accuracy: 0.7941, Time: 0.0076\n",
      "Epoch: 130, train loss: 0.4062, validation loss: 0.5285, training accuracy: 0.8636, validation accuracy: 0.8088, Time: 0.0075\n",
      "Epoch: 140, train loss: 0.3958, validation loss: 0.5313, training accuracy: 0.8636, validation accuracy: 0.7794, Time: 0.0074\n",
      "Epoch: 150, train loss: 0.3857, validation loss: 0.5341, training accuracy: 0.8636, validation accuracy: 0.7794, Time: 0.0074\n",
      "Epoch: 160, train loss: 0.3759, validation loss: 0.5376, training accuracy: 0.8636, validation accuracy: 0.7647, Time: 0.0073\n",
      "Epoch: 170, train loss: 0.3670, validation loss: 0.5405, training accuracy: 0.8864, validation accuracy: 0.7647, Time: 0.0072\n",
      "Epoch: 180, train loss: 0.3584, validation loss: 0.5444, training accuracy: 0.9091, validation accuracy: 0.7647, Time: 0.0072\n",
      "Epoch: 190, train loss: 0.3496, validation loss: 0.5498, training accuracy: 0.9091, validation accuracy: 0.7647, Time: 0.0072\n",
      "Epoch: 200, train loss: 0.3414, validation loss: 0.5521, training accuracy: 0.9091, validation accuracy: 0.7500, Time: 0.0073\n",
      "Epoch: 210, train loss: 0.3330, validation loss: 0.5586, training accuracy: 0.9091, validation accuracy: 0.7500, Time: 0.0074\n",
      "Epoch: 220, train loss: 0.3230, validation loss: 0.5631, training accuracy: 0.9091, validation accuracy: 0.7500, Time: 0.0075\n",
      "Epoch: 230, train loss: 0.3147, validation loss: 0.5650, training accuracy: 0.9318, validation accuracy: 0.7500, Time: 0.0074\n",
      "Epoch: 240, train loss: 0.3065, validation loss: 0.5672, training accuracy: 0.9318, validation accuracy: 0.7500, Time: 0.0074\n"
     ]
    }
   ],
   "source": [
    "model = SAGE(in_feats=n_features, hid_feats=100, out_feats=n_labels)\n",
    "opt = torch.optim.Adam(model.parameters())\n",
    "plot_loss_train = []\n",
    "plot_loss_val = []\n",
    "valid_acc = []\n",
    "train_acc = []\n",
    "dur = []\n",
    "for epoch in range(250):\n",
    "    t0 = time.time()\n",
    "    model.train()\n",
    "    # forward propagation by using all nodes\n",
    "    logits = model(G_dgl, node_features)\n",
    "    # compute loss\n",
    "    loss_train = F.cross_entropy(logits[train_mask], node_labels[train_mask])\n",
    "    loss_val = F.cross_entropy(logits[valid_mask], node_labels[valid_mask])\n",
    "    plot_loss_train.append(loss_train.item())\n",
    "    plot_loss_val.append(loss_val.item())\n",
    "    # compute validation accuracy\n",
    "    acc_val = evaluate(model, G_dgl, node_features, node_labels, valid_mask)\n",
    "    acc_train = evaluate(model, G_dgl, node_features, node_labels, train_mask)\n",
    "    valid_acc.append(acc_val)\n",
    "    train_acc.append(acc_train)\n",
    "    # backward propagation\n",
    "    opt.zero_grad()\n",
    "    loss_train.backward()\n",
    "    opt.step()\n",
    "    dur.append(time.time() - t0)\n",
    "    if epoch % 10 == 0:\n",
    "        print('Epoch: {}, train loss: {:.4f}, validation loss: {:.4f}, training accuracy: {:.4f}, validation accuracy: {:.4f}, Time: {:.4f}'.format(epoch,loss_train.item(),loss_val.item(),acc_train,acc_val,np.mean(dur)))\n"
   ]
  },
  {
   "cell_type": "code",
   "execution_count": 63,
   "metadata": {},
   "outputs": [
    {
     "data": {
      "image/png": "[encoded data removed]",
      "text/plain": [
       "<Figure size 432x288 with 1 Axes>"
      ]
     },
     "metadata": {},
     "output_type": "display_data"
    }
   ],
   "source": [
    "plt.plot(plot_loss_train,label='Training Loss')\n",
    "plt.plot(plot_loss_val,label='Validation Loss')\n",
    "plt.xlabel('Epochs')\n",
    "plt.ylabel('Cross Entropy Loss')\n",
    "plt.legend()\n",
    "plt.show()"
   ]
  },
  {
   "cell_type": "code",
   "execution_count": 64,
   "metadata": {},
   "outputs": [
    {
     "data": {
      "image/png": "[encoded data removed]",
      "text/plain": [
       "<Figure size 432x288 with 1 Axes>"
      ]
     },
     "metadata": {},
     "output_type": "display_data"
    }
   ],
   "source": [
    "plt.plot(train_acc,label='Training Accuracy')\n",
    "plt.plot(valid_acc,label='Validation Accuracy')\n",
    "plt.xlabel('Epochs')\n",
    "plt.ylabel('Accuracy')\n",
    "plt.legend()\n",
    "plt.show()"
   ]
  },
  {
   "cell_type": "code",
   "execution_count": 65,
   "metadata": {},
   "outputs": [
    {
     "name": "stdout",
     "output_type": "stream",
     "text": [
      "Classification Accuracy validation set 0.75\n",
      "-------------------------------------------------------------\n",
      "Classification Accuracy training set 0.9318181818181818\n",
      "-------------------------------------------------------------\n",
      "Confusion Matrix validation set:\n",
      "[[ 7 11]\n",
      " [ 6 44]]\n",
      "-------------------------------------------------------------\n",
      "Confusion Matrix training set:\n",
      "[[11  3]\n",
      " [ 0 30]]\n"
     ]
    }
   ],
   "source": [
    "from sklearn.metrics import accuracy_score, confusion_matrix\n",
    "val_tens = torch.tensor(features)\n",
    "_, indices_val = torch.max(logits[valid_mask], dim=1)\n",
    "val_lab = val_tens[valid_mask]\n",
    "train_lab = val_tens[train_mask]\n",
    "_, indices_train = torch.max(logits[train_mask], dim=1)\n",
    "\n",
    "print('Classification Accuracy validation set {}'.format(accuracy_score(val_lab,indices_val)))\n",
    "print('-------------------------------------------------------------')\n",
    "print('Classification Accuracy training set {}'.format(accuracy_score(train_lab,indices_train)))\n",
    "print('-------------------------------------------------------------')\n",
    "print('Confusion Matrix validation set:')\n",
    "print(confusion_matrix(val_lab, indices_val))\n",
    "print('-------------------------------------------------------------')\n",
    "print('Confusion Matrix training set:')\n",
    "print(confusion_matrix(train_lab,indices_train))\n"
   ]
  },
  {
   "cell_type": "code",
   "execution_count": 40,
   "metadata": {},
   "outputs": [],
   "source": [
    "class GCN(nn.Module):\n",
    "    def __init__(self, in_feats, hid_feats, out_feats):\n",
    "        super().__init__()\n",
    "        self.conv1 = dglnn.pytorch.conv.GraphConv(\n",
    "            in_feats=in_feats, out_feats=hid_feats)\n",
    "        self.conv2 = dglnn.pytorch.conv.GraphConv(\n",
    "            in_feats=hid_feats, out_feats=out_feats)\n",
    "\n",
    "    def forward(self, graph, inputs):\n",
    "        # inputs are features of nodes\n",
    "        h = self.conv1(graph, inputs)\n",
    "        h = F.relu(h)\n",
    "        h = self.conv2(graph, h)\n",
    "        h = F.log_softmax(h,dim=1)\n",
    "        return h"
   ]
  },
  {
   "cell_type": "code",
   "execution_count": 41,
   "metadata": {},
   "outputs": [
    {
     "ename": "DGLError",
     "evalue": "There are 0-in-degree nodes in the graph, output for those nodes will be invalid. This is harmful for some applications, causing silent performance regression. Adding self-loop on the input graph by calling `g = dgl.add_self_loop(g)` will resolve the issue. Setting ``allow_zero_in_degree`` to be `True` when constructing this module will suppress the check and let the code run.",
     "output_type": "error",
     "traceback": [
      "\u001b[0;31m---------------------------------------------------------------------------\u001b[0m",
      "\u001b[0;31mDGLError\u001b[0m                                  Traceback (most recent call last)",
      "\u001b[0;32m<ipython-input-41-26e590f94a0c>\u001b[0m in \u001b[0;36m<module>\u001b[0;34m\u001b[0m\n\u001b[1;32m     10\u001b[0m     \u001b[0mmodel\u001b[0m\u001b[0;34m.\u001b[0m\u001b[0mtrain\u001b[0m\u001b[0;34m(\u001b[0m\u001b[0;34m)\u001b[0m\u001b[0;34m\u001b[0m\u001b[0;34m\u001b[0m\u001b[0m\n\u001b[1;32m     11\u001b[0m     \u001b[0;31m# forward propagation by using all nodes\u001b[0m\u001b[0;34m\u001b[0m\u001b[0;34m\u001b[0m\u001b[0;34m\u001b[0m\u001b[0m\n\u001b[0;32m---> 12\u001b[0;31m     \u001b[0mlogits\u001b[0m \u001b[0;34m=\u001b[0m \u001b[0mmodel\u001b[0m\u001b[0;34m(\u001b[0m\u001b[0mG_dgl\u001b[0m\u001b[0;34m,\u001b[0m \u001b[0mnode_features\u001b[0m\u001b[0;34m)\u001b[0m\u001b[0;34m\u001b[0m\u001b[0;34m\u001b[0m\u001b[0m\n\u001b[0m\u001b[1;32m     13\u001b[0m     \u001b[0;31m# compute loss\u001b[0m\u001b[0;34m\u001b[0m\u001b[0;34m\u001b[0m\u001b[0;34m\u001b[0m\u001b[0m\n\u001b[1;32m     14\u001b[0m     \u001b[0mloss_train\u001b[0m \u001b[0;34m=\u001b[0m \u001b[0mF\u001b[0m\u001b[0;34m.\u001b[0m\u001b[0mcross_entropy\u001b[0m\u001b[0;34m(\u001b[0m\u001b[0mlogits\u001b[0m\u001b[0;34m[\u001b[0m\u001b[0mtrain_mask\u001b[0m\u001b[0;34m]\u001b[0m\u001b[0;34m,\u001b[0m \u001b[0mnode_labels\u001b[0m\u001b[0;34m[\u001b[0m\u001b[0mtrain_mask\u001b[0m\u001b[0;34m]\u001b[0m\u001b[0;34m)\u001b[0m\u001b[0;34m\u001b[0m\u001b[0;34m\u001b[0m\u001b[0m\n",
      "\u001b[0;32m/usr/local/Caskroom/miniconda/base/lib/python3.8/site-packages/torch/nn/modules/module.py\u001b[0m in \u001b[0;36m_call_impl\u001b[0;34m(self, *input, **kwargs)\u001b[0m\n\u001b[1;32m    887\u001b[0m             \u001b[0mresult\u001b[0m \u001b[0;34m=\u001b[0m \u001b[0mself\u001b[0m\u001b[0;34m.\u001b[0m\u001b[0m_slow_forward\u001b[0m\u001b[0;34m(\u001b[0m\u001b[0;34m*\u001b[0m\u001b[0minput\u001b[0m\u001b[0;34m,\u001b[0m \u001b[0;34m**\u001b[0m\u001b[0mkwargs\u001b[0m\u001b[0;34m)\u001b[0m\u001b[0;34m\u001b[0m\u001b[0;34m\u001b[0m\u001b[0m\n\u001b[1;32m    888\u001b[0m         \u001b[0;32melse\u001b[0m\u001b[0;34m:\u001b[0m\u001b[0;34m\u001b[0m\u001b[0;34m\u001b[0m\u001b[0m\n\u001b[0;32m--> 889\u001b[0;31m             \u001b[0mresult\u001b[0m \u001b[0;34m=\u001b[0m \u001b[0mself\u001b[0m\u001b[0;34m.\u001b[0m\u001b[0mforward\u001b[0m\u001b[0;34m(\u001b[0m\u001b[0;34m*\u001b[0m\u001b[0minput\u001b[0m\u001b[0;34m,\u001b[0m \u001b[0;34m**\u001b[0m\u001b[0mkwargs\u001b[0m\u001b[0;34m)\u001b[0m\u001b[0;34m\u001b[0m\u001b[0;34m\u001b[0m\u001b[0m\n\u001b[0m\u001b[1;32m    890\u001b[0m         for hook in itertools.chain(\n\u001b[1;32m    891\u001b[0m                 \u001b[0m_global_forward_hooks\u001b[0m\u001b[0;34m.\u001b[0m\u001b[0mvalues\u001b[0m\u001b[0;34m(\u001b[0m\u001b[0;34m)\u001b[0m\u001b[0;34m,\u001b[0m\u001b[0;34m\u001b[0m\u001b[0;34m\u001b[0m\u001b[0m\n",
      "\u001b[0;32m<ipython-input-40-de2edd8ef220>\u001b[0m in \u001b[0;36mforward\u001b[0;34m(self, graph, inputs)\u001b[0m\n\u001b[1;32m      9\u001b[0m     \u001b[0;32mdef\u001b[0m \u001b[0mforward\u001b[0m\u001b[0;34m(\u001b[0m\u001b[0mself\u001b[0m\u001b[0;34m,\u001b[0m \u001b[0mgraph\u001b[0m\u001b[0;34m,\u001b[0m \u001b[0minputs\u001b[0m\u001b[0;34m)\u001b[0m\u001b[0;34m:\u001b[0m\u001b[0;34m\u001b[0m\u001b[0;34m\u001b[0m\u001b[0m\n\u001b[1;32m     10\u001b[0m         \u001b[0;31m# inputs are features of nodes\u001b[0m\u001b[0;34m\u001b[0m\u001b[0;34m\u001b[0m\u001b[0;34m\u001b[0m\u001b[0m\n\u001b[0;32m---> 11\u001b[0;31m         \u001b[0mh\u001b[0m \u001b[0;34m=\u001b[0m \u001b[0mself\u001b[0m\u001b[0;34m.\u001b[0m\u001b[0mconv1\u001b[0m\u001b[0;34m(\u001b[0m\u001b[0mgraph\u001b[0m\u001b[0;34m,\u001b[0m \u001b[0minputs\u001b[0m\u001b[0;34m)\u001b[0m\u001b[0;34m\u001b[0m\u001b[0;34m\u001b[0m\u001b[0m\n\u001b[0m\u001b[1;32m     12\u001b[0m         \u001b[0mh\u001b[0m \u001b[0;34m=\u001b[0m \u001b[0mF\u001b[0m\u001b[0;34m.\u001b[0m\u001b[0mrelu\u001b[0m\u001b[0;34m(\u001b[0m\u001b[0mh\u001b[0m\u001b[0;34m)\u001b[0m\u001b[0;34m\u001b[0m\u001b[0;34m\u001b[0m\u001b[0m\n\u001b[1;32m     13\u001b[0m         \u001b[0mh\u001b[0m \u001b[0;34m=\u001b[0m \u001b[0mself\u001b[0m\u001b[0;34m.\u001b[0m\u001b[0mconv2\u001b[0m\u001b[0;34m(\u001b[0m\u001b[0mgraph\u001b[0m\u001b[0;34m,\u001b[0m \u001b[0mh\u001b[0m\u001b[0;34m)\u001b[0m\u001b[0;34m\u001b[0m\u001b[0;34m\u001b[0m\u001b[0m\n",
      "\u001b[0;32m/usr/local/Caskroom/miniconda/base/lib/python3.8/site-packages/torch/nn/modules/module.py\u001b[0m in \u001b[0;36m_call_impl\u001b[0;34m(self, *input, **kwargs)\u001b[0m\n\u001b[1;32m    887\u001b[0m             \u001b[0mresult\u001b[0m \u001b[0;34m=\u001b[0m \u001b[0mself\u001b[0m\u001b[0;34m.\u001b[0m\u001b[0m_slow_forward\u001b[0m\u001b[0;34m(\u001b[0m\u001b[0;34m*\u001b[0m\u001b[0minput\u001b[0m\u001b[0;34m,\u001b[0m \u001b[0;34m**\u001b[0m\u001b[0mkwargs\u001b[0m\u001b[0;34m)\u001b[0m\u001b[0;34m\u001b[0m\u001b[0;34m\u001b[0m\u001b[0m\n\u001b[1;32m    888\u001b[0m         \u001b[0;32melse\u001b[0m\u001b[0;34m:\u001b[0m\u001b[0;34m\u001b[0m\u001b[0;34m\u001b[0m\u001b[0m\n\u001b[0;32m--> 889\u001b[0;31m             \u001b[0mresult\u001b[0m \u001b[0;34m=\u001b[0m \u001b[0mself\u001b[0m\u001b[0;34m.\u001b[0m\u001b[0mforward\u001b[0m\u001b[0;34m(\u001b[0m\u001b[0;34m*\u001b[0m\u001b[0minput\u001b[0m\u001b[0;34m,\u001b[0m \u001b[0;34m**\u001b[0m\u001b[0mkwargs\u001b[0m\u001b[0;34m)\u001b[0m\u001b[0;34m\u001b[0m\u001b[0;34m\u001b[0m\u001b[0m\n\u001b[0m\u001b[1;32m    890\u001b[0m         for hook in itertools.chain(\n\u001b[1;32m    891\u001b[0m                 \u001b[0m_global_forward_hooks\u001b[0m\u001b[0;34m.\u001b[0m\u001b[0mvalues\u001b[0m\u001b[0;34m(\u001b[0m\u001b[0;34m)\u001b[0m\u001b[0;34m,\u001b[0m\u001b[0;34m\u001b[0m\u001b[0;34m\u001b[0m\u001b[0m\n",
      "\u001b[0;32m/usr/local/Caskroom/miniconda/base/lib/python3.8/site-packages/dgl/nn/pytorch/conv/graphconv.py\u001b[0m in \u001b[0;36mforward\u001b[0;34m(self, graph, feat, weight, edge_weight)\u001b[0m\n\u001b[1;32m    379\u001b[0m             \u001b[0;32mif\u001b[0m \u001b[0;32mnot\u001b[0m \u001b[0mself\u001b[0m\u001b[0;34m.\u001b[0m\u001b[0m_allow_zero_in_degree\u001b[0m\u001b[0;34m:\u001b[0m\u001b[0;34m\u001b[0m\u001b[0;34m\u001b[0m\u001b[0m\n\u001b[1;32m    380\u001b[0m                 \u001b[0;32mif\u001b[0m \u001b[0;34m(\u001b[0m\u001b[0mgraph\u001b[0m\u001b[0;34m.\u001b[0m\u001b[0min_degrees\u001b[0m\u001b[0;34m(\u001b[0m\u001b[0;34m)\u001b[0m \u001b[0;34m==\u001b[0m \u001b[0;36m0\u001b[0m\u001b[0;34m)\u001b[0m\u001b[0;34m.\u001b[0m\u001b[0many\u001b[0m\u001b[0;34m(\u001b[0m\u001b[0;34m)\u001b[0m\u001b[0;34m:\u001b[0m\u001b[0;34m\u001b[0m\u001b[0;34m\u001b[0m\u001b[0m\n\u001b[0;32m--> 381\u001b[0;31m                     raise DGLError('There are 0-in-degree nodes in the graph, '\n\u001b[0m\u001b[1;32m    382\u001b[0m                                    \u001b[0;34m'output for those nodes will be invalid. '\u001b[0m\u001b[0;34m\u001b[0m\u001b[0;34m\u001b[0m\u001b[0m\n\u001b[1;32m    383\u001b[0m                                    \u001b[0;34m'This is harmful for some applications, '\u001b[0m\u001b[0;34m\u001b[0m\u001b[0;34m\u001b[0m\u001b[0m\n",
      "\u001b[0;31mDGLError\u001b[0m: There are 0-in-degree nodes in the graph, output for those nodes will be invalid. This is harmful for some applications, causing silent performance regression. Adding self-loop on the input graph by calling `g = dgl.add_self_loop(g)` will resolve the issue. Setting ``allow_zero_in_degree`` to be `True` when constructing this module will suppress the check and let the code run."
     ]
    }
   ],
   "source": [
    "model = GCN(in_feats=n_features, hid_feats=100, out_feats=n_labels)\n",
    "opt = torch.optim.Adam(model.parameters())\n",
    "plot_loss_train = []\n",
    "plot_loss_val = []\n",
    "valid_acc = []\n",
    "train_acc = []\n",
    "dur = []\n",
    "for epoch in range(200):\n",
    "    t0 = time.time()\n",
    "    model.train()\n",
    "    # forward propagation by using all nodes\n",
    "    logits = model(G_dgl, node_features)\n",
    "    # compute loss\n",
    "    loss_train = F.cross_entropy(logits[train_mask], node_labels[train_mask])\n",
    "    loss_val = F.cross_entropy(logits[valid_mask], node_labels[valid_mask])\n",
    "    plot_loss_train.append(loss_train.item())\n",
    "    plot_loss_val.append(loss_val.item())\n",
    "    # compute validation accuracy\n",
    "    acc_val = evaluate(model, G_dgl, node_features, node_labels, valid_mask)\n",
    "    acc_train = evaluate(model, G_dgl, node_features, node_labels, train_mask)\n",
    "    valid_acc.append(acc_val)\n",
    "    train_acc.append(acc_train)\n",
    "    # backward propagation\n",
    "    opt.zero_grad()\n",
    "    loss_train.backward()\n",
    "    opt.step()\n",
    "    dur.append(time.time() - t0)\n",
    "    if epoch % 10 == 0:\n",
    "        print('Epoch: {}, train loss: {:.4f}, validation loss: {:.4f}, training accuracy: {:.4f}, validation accuracy: {:.4f}, Time: {:.4f}'.format(epoch,loss_train.item(),loss_val.item(),acc_train,acc_val,np.mean(dur)))\n"
   ]
  },
  {
   "cell_type": "code",
   "execution_count": null,
   "metadata": {},
   "outputs": [],
   "source": [
    "#from sklearn.metrics import roc_auc_score, plot_roc_curve\n",
    "\n",
    "#roc_auc_score(val_lab,indices_val)"
   ]
  },
  {
   "cell_type": "code",
   "execution_count": null,
   "metadata": {},
   "outputs": [],
   "source": [
    "#from node2vec import Node2Vec\n",
    "\n",
    "#node2vec = Node2Vec(G, dimensions=2, walk_length=5, num_walks=100, workers=1)\n",
    "#model = node2vec.fit(window=5, min_count=1, batch_words=2)\n",
    "#model.wv.save_word2vec_format('embeddings')"
   ]
  },
  {
   "cell_type": "code",
   "execution_count": null,
   "metadata": {},
   "outputs": [],
   "source": [
    "#t = pd.read_csv('embeddings', delimiter = \" \", index_col=0, header = None)\n",
    "#t.sort_index(inplace=True)\n",
    "#t = t.to_numpy()\n",
    "#t.shape"
   ]
  },
  {
   "cell_type": "code",
   "execution_count": null,
   "metadata": {},
   "outputs": [],
   "source": [
    "#import statsmodels.api as sm\n",
    "\n",
    "#log_reg = sm.Logit(features, t).fit()"
   ]
  },
  {
   "cell_type": "code",
   "execution_count": null,
   "metadata": {},
   "outputs": [],
   "source": [
    "#print(log_reg.summary())"
   ]
  },
  {
   "cell_type": "code",
   "execution_count": null,
   "metadata": {},
   "outputs": [],
   "source": [
    "#plt.scatter(t[:,0],t[:,1],c=features,label=features)\n",
    "#plt.show()"
   ]
  },
  {
   "cell_type": "code",
   "execution_count": null,
   "metadata": {},
   "outputs": [],
   "source": [
    "from sklearn.model_selection import train_test_split\n",
    "f = pd.get_dummies(features)\n",
    "x_train, x_test, y_train, y_test = train_test_split(X,f, test_size = 0.6, shuffle=True)"
   ]
  },
  {
   "cell_type": "code",
   "execution_count": null,
   "metadata": {
    "tags": [
     "outputPrepend"
    ]
   },
   "outputs": [],
   "source": [
    "import tensorflow as tf\n",
    "from tensorflow.keras.models import Sequential\n",
    "from tensorflow.keras.layers import Dense\n",
    "x_train_tf = tf.convert_to_tensor(x_train)\n",
    "x_test_tf = tf.convert_to_tensor(x_test)\n",
    "y_train_tf = tf.convert_to_tensor(y_train)\n",
    "y_test_tf = tf.convert_to_tensor(y_test)\n",
    "\n",
    "model = Sequential()\n",
    "\n",
    "model.add(Dense(15, activation='relu'))\n",
    "model.add(Dense(8, activation='relu'))\n",
    "model.add(Dense(2, activation='softmax'))\n",
    "#opt = tf.keras.optimizers.Adam(learning_rate=0.0001)\n",
    "\n",
    "model.compile(loss='binary_crossentropy', optimizer='adam', metrics=['accuracy'])\n",
    "history = model.fit(x_train_tf, y_train_tf,validation_data=(x_test_tf,y_test_tf), epochs=150, batch_size=1)"
   ]
  },
  {
   "cell_type": "code",
   "execution_count": null,
   "metadata": {},
   "outputs": [],
   "source": [
    "plt.plot(history.history['loss'],label = 'Training Loss', color = 'blue')\n",
    "plt.plot(history.history['val_loss'],label = 'Validation Loss', color = 'red')\n",
    "plt.xlabel('Number of Epochs')\n",
    "plt.ylabel('Cross-Entropy Loss')\n",
    "plt.title('Loss per Epoch')\n",
    "plt.legend()\n",
    "plt.show()"
   ]
  },
  {
   "cell_type": "code",
   "execution_count": null,
   "metadata": {},
   "outputs": [],
   "source": [
    "plt.plot(history.history['accuracy'],label = 'Training accuracy', color = 'blue')\n",
    "plt.plot(history.history['val_accuracy'],label = 'Validation accuracy', color = 'red')\n",
    "plt.xlabel('Number of Epochs')\n",
    "plt.ylabel('Accuracy')\n",
    "plt.title('Loss per Epoch')\n",
    "plt.legend()\n",
    "plt.show()"
   ]
  },
  {
   "cell_type": "code",
   "execution_count": null,
   "metadata": {},
   "outputs": [],
   "source": [
    "import statsmodels.api as sm\n",
    "\n",
    "log_reg = sm.Logit(features, feat).fit()\n",
    "print(log_reg.summary())"
   ]
  },
  {
   "cell_type": "code",
   "execution_count": null,
   "metadata": {},
   "outputs": [],
   "source": [
    "nx.classes.function.density(G)"
   ]
  },
  {
   "cell_type": "code",
   "execution_count": null,
   "metadata": {},
   "outputs": [],
   "source": [
    "cent = nx.algorithms.centrality.eigenvector_centrality(G)\n",
    "clos_cent = nx.algorithms.centrality.closeness_centrality(G)\n",
    "be_cent = nx.algorithms.centrality.betweenness_centrality(G)"
   ]
  },
  {
   "cell_type": "code",
   "execution_count": null,
   "metadata": {},
   "outputs": [],
   "source": [
    "obj = cent.items()\n",
    "l = list(obj)\n",
    "r = np.array(l)\n",
    "r = r[:,1]"
   ]
  },
  {
   "cell_type": "code",
   "execution_count": null,
   "metadata": {},
   "outputs": [],
   "source": [
    "plt.hist(r)\n",
    "plt.title('Eigenvector Centrality')\n",
    "plt.xlabel('Eigenvector Centrality')\n",
    "plt.ylabel('Number of Nodes')"
   ]
  },
  {
   "cell_type": "code",
   "execution_count": null,
   "metadata": {},
   "outputs": [],
   "source": [
    "obj = clos_cent.items()\n",
    "l = list(obj)\n",
    "r = np.array(l)\n",
    "r = r[:,1]"
   ]
  },
  {
   "cell_type": "code",
   "execution_count": null,
   "metadata": {},
   "outputs": [],
   "source": [
    "plt.hist(r)\n",
    "plt.title('Closeness Centrality')\n",
    "plt.xlabel('Closeness Centrality')\n",
    "plt.ylabel('Number of Nodes')"
   ]
  },
  {
   "cell_type": "code",
   "execution_count": null,
   "metadata": {},
   "outputs": [],
   "source": [
    "obj = be_cent.items()\n",
    "l = list(obj)\n",
    "r = np.array(l)\n",
    "r = r[:,1]"
   ]
  },
  {
   "cell_type": "code",
   "execution_count": null,
   "metadata": {},
   "outputs": [],
   "source": [
    "plt.hist(r)\n",
    "plt.title('Betweenness Centrality')\n",
    "plt.xlabel('Betweenness Centrality')\n",
    "plt.ylabel('Number of Nodes')"
   ]
  },
  {
   "cell_type": "code",
   "execution_count": null,
   "metadata": {},
   "outputs": [],
   "source": [
    "import collections\n",
    "\n",
    "degree_sequence = sorted([d for n, d in G.degree()], reverse=True)  # degree sequence\n",
    "degreeCount = collections.Counter(degree_sequence)\n",
    "deg, cnt = zip(*degreeCount.items())\n",
    "\n",
    "fig, ax = plt.subplots()\n",
    "plt.bar(deg, cnt, width=0.80, color=\"b\")\n",
    "\n",
    "plt.title(\"Degree Histogram\")\n",
    "plt.ylabel(\"Count\")\n",
    "plt.xlabel(\"Degree\")\n",
    "ax.set_xticks([d + 0.4 for d in deg])\n",
    "ax.set_xticklabels(deg)\n",
    "\n",
    "# draw graph in inset\n",
    "plt.axes([0.4, 0.4, 0.5, 0.5])\n",
    "Gcc = G.subgraph(sorted(nx.connected_components(G), key=len, reverse=True)[0])\n",
    "pos = nx.spring_layout(G)\n",
    "plt.axis(\"off\")\n",
    "nx.draw_networkx_nodes(G, pos, node_size=20)\n",
    "nx.draw_networkx_edges(G, pos, alpha=0.4)\n",
    "plt.show()"
   ]
  },
  {
   "cell_type": "code",
   "execution_count": null,
   "metadata": {},
   "outputs": [],
   "source": [
    "nx.algorithms.cluster.average_clustering(G)"
   ]
  },
  {
   "cell_type": "code",
   "execution_count": null,
   "metadata": {},
   "outputs": [],
   "source": [
    "G.degree()"
   ]
  },
  {
   "cell_type": "code",
   "execution_count": null,
   "metadata": {},
   "outputs": [],
   "source": []
  }
 ],
 "metadata": {
  "kernelspec": {
   "display_name": "Python 3",
   "language": "python",
   "name": "python3"
  },
  "language_info": {
   "codemirror_mode": {
    "name": "ipython",
    "version": 3
   },
   "file_extension": ".py",
   "mimetype": "text/x-python",
   "name": "python",
   "nbconvert_exporter": "python",
   "pygments_lexer": "ipython3",
   "version": "3.8.10"
  },
  "toc": {
   "base_numbering": 1,
   "nav_menu": {},
   "number_sections": true,
   "sideBar": true,
   "skip_h1_title": false,
   "title_cell": "Table of Contents",
   "title_sidebar": "Contents",
   "toc_cell": false,
   "toc_position": {},
   "toc_section_display": true,
   "toc_window_display": false
  },
  "varInspector": {
   "cols": {
    "lenName": 16,
    "lenType": 16,
    "lenVar": 40
   },
   "kernels_config": {
    "python": {
     "delete_cmd_postfix": "",
     "delete_cmd_prefix": "del ",
     "library": "var_list.py",
     "varRefreshCmd": "print(var_dic_list())"
    },
    "r": {
     "delete_cmd_postfix": ") ",
     "delete_cmd_prefix": "rm(",
     "library": "var_list.r",
     "varRefreshCmd": "cat(var_dic_list()) "
    }
   },
   "position": {
    "height": "177px",
    "left": "921px",
    "right": "20px",
    "top": "120px",
    "width": "339px"
   },
   "types_to_exclude": [
    "module",
    "function",
    "builtin_function_or_method",
    "instance",
    "_Feature"
   ],
   "window_display": false
  }
 },
 "nbformat": 4,
 "nbformat_minor": 2
}
